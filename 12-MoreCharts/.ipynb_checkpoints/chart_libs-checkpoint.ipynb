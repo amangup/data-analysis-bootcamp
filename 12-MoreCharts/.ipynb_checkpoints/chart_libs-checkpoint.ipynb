{
 "cells": [
  {
   "cell_type": "markdown",
   "metadata": {},
   "source": [
    "# More charting libraries\n",
    "\n",
    "In these short lecture, we will look at a couple of other charting libraries, and see how those can be more powerful than matplotlib for specific scenerios."
   ]
  },
  {
   "cell_type": "markdown",
   "metadata": {},
   "source": [
    "## Interactive charts using plotly\n",
    "\n",
    "The first library we are looking at is `plotly`, that can be used for creating interactive plots (but, it is a complete charting library in itself). This library is not the only choice (`bokeh` is another standout library) - and you can assume I chose `plotly` as a result of random coin toss.\n",
    "\n",
    "A note on how interactions work - the interactive nature of these charts comes from using Javascript. The output is an HTML/javascript document which can be seen in Jupyter Notebook or browser in general. The libraries don't require us to write any Javascript for the most part - but if you've seen a very unique interactive chart online, it's likely that it's creator wrote custom Javascript for that. \n",
    "\n",
    "The javascript library `D3.js` is most commonly used for visualization. In fact, `plotly` is built on top of `D3.js`."
   ]
  },
  {
   "cell_type": "markdown",
   "metadata": {},
   "source": [
    "Plotly is implemented by a for-profit company and is offered as a paid service to customers. By default, any chart you create gets hosted on its servers.\n",
    "\n",
    "But it also has a offline library, one which we can use to add interactive plots to Jupyter notebooks and export HTML files.\n",
    "\n",
    "To get `plotly`, run the following command:\n",
    "\n",
    "```\n",
    "conda install plotly\n",
    "```"
   ]
  },
  {
   "cell_type": "code",
   "execution_count": 33,
   "metadata": {},
   "outputs": [],
   "source": [
    "import pandas as pd\n",
    "import plotly.graph_objs as go \n",
    "from plotly.offline import init_notebook_mode,iplot\n",
    "from scipy import signal"
   ]
  },
  {
   "cell_type": "code",
   "execution_count": 34,
   "metadata": {},
   "outputs": [
    {
     "data": {
      "text/html": [
       "        <script type=\"text/javascript\">\n",
       "        window.PlotlyConfig = {MathJaxConfig: 'local'};\n",
       "        if (window.MathJax) {MathJax.Hub.Config({SVG: {font: \"STIX-Web\"}});}\n",
       "        if (typeof require !== 'undefined') {\n",
       "        require.undef(\"plotly\");\n",
       "        requirejs.config({\n",
       "            paths: {\n",
       "                'plotly': ['https://cdn.plot.ly/plotly-latest.min']\n",
       "            }\n",
       "        });\n",
       "        require(['plotly'], function(Plotly) {\n",
       "            window._Plotly = Plotly;\n",
       "        });\n",
       "        }\n",
       "        </script>\n",
       "        "
      ]
     },
     "metadata": {},
     "output_type": "display_data"
    }
   ],
   "source": [
    "init_notebook_mode(connected=True)"
   ]
  },
  {
   "cell_type": "markdown",
   "metadata": {},
   "source": [
    "In this example, I have fetched data for the relative freq of search terms **meeting** and **bar** from Google Trends website."
   ]
  },
  {
   "cell_type": "code",
   "execution_count": 40,
   "metadata": {},
   "outputs": [
    {
     "data": {
      "text/html": [
       "<div>\n",
       "<style scoped>\n",
       "    .dataframe tbody tr th:only-of-type {\n",
       "        vertical-align: middle;\n",
       "    }\n",
       "\n",
       "    .dataframe tbody tr th {\n",
       "        vertical-align: top;\n",
       "    }\n",
       "\n",
       "    .dataframe thead th {\n",
       "        text-align: right;\n",
       "    }\n",
       "</style>\n",
       "<table border=\"1\" class=\"dataframe\">\n",
       "  <thead>\n",
       "    <tr style=\"text-align: right;\">\n",
       "      <th></th>\n",
       "      <th>Day</th>\n",
       "      <th>meeting</th>\n",
       "      <th>bar</th>\n",
       "    </tr>\n",
       "  </thead>\n",
       "  <tbody>\n",
       "    <tr>\n",
       "      <th>0</th>\n",
       "      <td>2019-03-26</td>\n",
       "      <td>11</td>\n",
       "      <td>71</td>\n",
       "    </tr>\n",
       "    <tr>\n",
       "      <th>1</th>\n",
       "      <td>2019-03-27</td>\n",
       "      <td>11</td>\n",
       "      <td>72</td>\n",
       "    </tr>\n",
       "    <tr>\n",
       "      <th>2</th>\n",
       "      <td>2019-03-28</td>\n",
       "      <td>10</td>\n",
       "      <td>74</td>\n",
       "    </tr>\n",
       "    <tr>\n",
       "      <th>3</th>\n",
       "      <td>2019-03-29</td>\n",
       "      <td>9</td>\n",
       "      <td>85</td>\n",
       "    </tr>\n",
       "    <tr>\n",
       "      <th>4</th>\n",
       "      <td>2019-03-30</td>\n",
       "      <td>6</td>\n",
       "      <td>97</td>\n",
       "    </tr>\n",
       "    <tr>\n",
       "      <th>5</th>\n",
       "      <td>2019-03-31</td>\n",
       "      <td>7</td>\n",
       "      <td>83</td>\n",
       "    </tr>\n",
       "    <tr>\n",
       "      <th>6</th>\n",
       "      <td>2019-04-01</td>\n",
       "      <td>10</td>\n",
       "      <td>68</td>\n",
       "    </tr>\n",
       "    <tr>\n",
       "      <th>7</th>\n",
       "      <td>2019-04-02</td>\n",
       "      <td>11</td>\n",
       "      <td>70</td>\n",
       "    </tr>\n",
       "    <tr>\n",
       "      <th>8</th>\n",
       "      <td>2019-04-03</td>\n",
       "      <td>12</td>\n",
       "      <td>71</td>\n",
       "    </tr>\n",
       "    <tr>\n",
       "      <th>9</th>\n",
       "      <td>2019-04-04</td>\n",
       "      <td>11</td>\n",
       "      <td>74</td>\n",
       "    </tr>\n",
       "  </tbody>\n",
       "</table>\n",
       "</div>"
      ],
      "text/plain": [
       "         Day  meeting  bar\n",
       "0 2019-03-26       11   71\n",
       "1 2019-03-27       11   72\n",
       "2 2019-03-28       10   74\n",
       "3 2019-03-29        9   85\n",
       "4 2019-03-30        6   97\n",
       "5 2019-03-31        7   83\n",
       "6 2019-04-01       10   68\n",
       "7 2019-04-02       11   70\n",
       "8 2019-04-03       12   71\n",
       "9 2019-04-04       11   74"
      ]
     },
     "execution_count": 40,
     "metadata": {},
     "output_type": "execute_result"
    }
   ],
   "source": [
    "df = pd.read_csv('search_bar_meeting.csv', parse_dates=[0])\n",
    "df.head(10)"
   ]
  },
  {
   "cell_type": "code",
   "execution_count": 41,
   "metadata": {},
   "outputs": [
    {
     "name": "stderr",
     "output_type": "stream",
     "text": [
      "/home/aman/miniconda3/lib/python3.6/site-packages/scipy/signal/_arraytools.py:45: FutureWarning:\n",
      "\n",
      "Using a non-tuple sequence for multidimensional indexing is deprecated; use `arr[tuple(seq)]` instead of `arr[seq]`. In the future this will be interpreted as an array index, `arr[np.array(seq)]`, which will result either in an error or a different result.\n",
      "\n"
     ]
    },
    {
     "data": {
      "application/vnd.plotly.v1+json": {
       "config": {
        "linkText": "Export to plot.ly",
        "plotlyServerURL": "https://plot.ly",
        "showLink": false
       },
       "data": [
        {
         "name": "Meeting",
         "type": "scatter",
         "uid": "f1fccc0f-68ce-4442-8766-d570133a3074",
         "x": [
          "2019-03-26",
          "2019-03-27",
          "2019-03-28",
          "2019-03-29",
          "2019-03-30",
          "2019-03-31",
          "2019-04-01",
          "2019-04-02",
          "2019-04-03",
          "2019-04-04",
          "2019-04-05",
          "2019-04-06",
          "2019-04-07",
          "2019-04-08",
          "2019-04-09",
          "2019-04-10",
          "2019-04-11",
          "2019-04-12",
          "2019-04-13",
          "2019-04-14",
          "2019-04-15",
          "2019-04-16",
          "2019-04-17",
          "2019-04-18",
          "2019-04-19",
          "2019-04-20",
          "2019-04-21",
          "2019-04-22",
          "2019-04-23",
          "2019-04-24",
          "2019-04-25",
          "2019-04-26",
          "2019-04-27",
          "2019-04-28",
          "2019-04-29",
          "2019-04-30",
          "2019-05-01",
          "2019-05-02",
          "2019-05-03",
          "2019-05-04",
          "2019-05-05",
          "2019-05-06",
          "2019-05-07",
          "2019-05-08",
          "2019-05-09",
          "2019-05-10",
          "2019-05-11",
          "2019-05-12",
          "2019-05-13",
          "2019-05-14",
          "2019-05-15",
          "2019-05-16",
          "2019-05-17",
          "2019-05-18",
          "2019-05-19",
          "2019-05-20",
          "2019-05-21",
          "2019-05-22",
          "2019-05-23",
          "2019-05-24",
          "2019-05-25",
          "2019-05-26",
          "2019-05-27",
          "2019-05-28",
          "2019-05-29",
          "2019-05-30",
          "2019-05-31",
          "2019-06-01",
          "2019-06-02",
          "2019-06-03",
          "2019-06-04",
          "2019-06-05",
          "2019-06-06",
          "2019-06-07",
          "2019-06-08",
          "2019-06-09",
          "2019-06-10",
          "2019-06-11",
          "2019-06-12",
          "2019-06-13",
          "2019-06-14",
          "2019-06-15",
          "2019-06-16",
          "2019-06-17",
          "2019-06-18",
          "2019-06-19",
          "2019-06-20",
          "2019-06-21",
          "2019-06-22",
          "2019-06-23",
          "2019-06-24"
         ],
         "y": [
          10.833333333333316,
          11.380952380952376,
          10.095238095238095,
          8.14285714285715,
          7.333333333333338,
          7.666666666666671,
          9.14285714285715,
          11.000000000000007,
          11.904761904761912,
          10.761904761904768,
          8.809523809523816,
          7.809523809523815,
          8.0952380952381,
          9.33333333333334,
          10.95238095238096,
          11.380952380952387,
          9.714285714285719,
          7.809523809523815,
          6.666666666666671,
          6.809523809523814,
          7.90476190476191,
          9.904761904761912,
          10.285714285714292,
          9.000000000000005,
          7.047619047619053,
          5.761904761904766,
          5.904761904761909,
          7.476190476190482,
          9.285714285714292,
          10.428571428571434,
          9.714285714285719,
          7.952380952380958,
          7.2380952380952435,
          7.380952380952386,
          8.380952380952387,
          9.90476190476191,
          10.619047619047626,
          9.523809523809529,
          8.047619047619053,
          7.000000000000005,
          7.2380952380952435,
          8.238095238095244,
          10.095238095238102,
          11.047619047619055,
          10.095238095238102,
          8.142857142857148,
          7.285714285714292,
          7.428571428571434,
          8.571428571428577,
          10.380952380952387,
          11.285714285714292,
          9.857142857142865,
          7.857142857142863,
          6.952380952380958,
          7.142857142857148,
          8.523809523809529,
          10.33333333333334,
          10.904761904761912,
          9.666666666666671,
          8.142857142857148,
          6.809523809523815,
          6.523809523809528,
          7.380952380952386,
          9.047619047619053,
          10.190476190476197,
          9.809523809523816,
          7.952380952380958,
          7.142857142857148,
          7.523809523809529,
          8.666666666666671,
          10.238095238095244,
          10.904761904761912,
          9.666666666666671,
          7.857142857142863,
          7.142857142857148,
          7.523809523809529,
          8.666666666666671,
          10.14285714285715,
          11.047619047619055,
          9.952380952380958,
          8.190476190476197,
          7.428571428571434,
          7.476190476190482,
          8.761904761904768,
          10.761904761904768,
          12.14285714285715,
          11.047619047619055,
          9.238095238095244,
          7.214285714285715,
          6.928571428571416,
          9.880952380952353
         ]
        },
        {
         "name": "Bar",
         "type": "scatter",
         "uid": "7b20a01f-177c-477a-a65e-6d1c4e5ff258",
         "x": [
          "2019-03-26",
          "2019-03-27",
          "2019-03-28",
          "2019-03-29",
          "2019-03-30",
          "2019-03-31",
          "2019-04-01",
          "2019-04-02",
          "2019-04-03",
          "2019-04-04",
          "2019-04-05",
          "2019-04-06",
          "2019-04-07",
          "2019-04-08",
          "2019-04-09",
          "2019-04-10",
          "2019-04-11",
          "2019-04-12",
          "2019-04-13",
          "2019-04-14",
          "2019-04-15",
          "2019-04-16",
          "2019-04-17",
          "2019-04-18",
          "2019-04-19",
          "2019-04-20",
          "2019-04-21",
          "2019-04-22",
          "2019-04-23",
          "2019-04-24",
          "2019-04-25",
          "2019-04-26",
          "2019-04-27",
          "2019-04-28",
          "2019-04-29",
          "2019-04-30",
          "2019-05-01",
          "2019-05-02",
          "2019-05-03",
          "2019-05-04",
          "2019-05-05",
          "2019-05-06",
          "2019-05-07",
          "2019-05-08",
          "2019-05-09",
          "2019-05-10",
          "2019-05-11",
          "2019-05-12",
          "2019-05-13",
          "2019-05-14",
          "2019-05-15",
          "2019-05-16",
          "2019-05-17",
          "2019-05-18",
          "2019-05-19",
          "2019-05-20",
          "2019-05-21",
          "2019-05-22",
          "2019-05-23",
          "2019-05-24",
          "2019-05-25",
          "2019-05-26",
          "2019-05-27",
          "2019-05-28",
          "2019-05-29",
          "2019-05-30",
          "2019-05-31",
          "2019-06-01",
          "2019-06-02",
          "2019-06-03",
          "2019-06-04",
          "2019-06-05",
          "2019-06-06",
          "2019-06-07",
          "2019-06-08",
          "2019-06-09",
          "2019-06-10",
          "2019-06-11",
          "2019-06-12",
          "2019-06-13",
          "2019-06-14",
          "2019-06-15",
          "2019-06-16",
          "2019-06-17",
          "2019-06-18",
          "2019-06-19",
          "2019-06-20",
          "2019-06-21",
          "2019-06-22",
          "2019-06-23",
          "2019-06-24"
         ],
         "y": [
          71.47619047619061,
          69.83333333333333,
          76.76190476190472,
          86.09523809523814,
          87.09523809523814,
          83.1428571428572,
          75.2380952380953,
          68.1428571428572,
          69.61904761904768,
          78.28571428571433,
          86.00000000000006,
          88.00000000000006,
          84.33333333333339,
          76.76190476190482,
          69.52380952380956,
          69.95238095238099,
          78.76190476190482,
          85.66666666666671,
          86.2380952380953,
          83.00000000000006,
          76.19047619047625,
          71.47619047619052,
          75.28571428571433,
          83.19047619047625,
          87.52380952380958,
          87.80952380952385,
          82.57142857142863,
          75.33333333333339,
          69.80952380952385,
          69.7619047619048,
          75.76190476190482,
          82.71428571428577,
          83.57142857142861,
          80.80952380952385,
          78.1428571428572,
          73.38095238095244,
          76.952380952381,
          85.0476190476191,
          90.00000000000006,
          88.1428571428572,
          84.33333333333339,
          75.42857142857147,
          69.66666666666671,
          69.61904761904768,
          77.47619047619052,
          82.85714285714292,
          83.66666666666671,
          80.80952380952385,
          74.42857142857147,
          69.1428571428572,
          70.00000000000004,
          78.76190476190482,
          86.57142857142863,
          88.38095238095244,
          84.76190476190482,
          77.33333333333339,
          68.57142857142861,
          68.57142857142861,
          76.80952380952385,
          83.42857142857147,
          86.09523809523814,
          83.57142857142863,
          77.00000000000006,
          70.61904761904766,
          71.76190476190482,
          78.66666666666671,
          86.33333333333339,
          87.57142857142863,
          84.52380952380958,
          78.00000000000006,
          71.47619047619052,
          72.09523809523814,
          78.52380952380958,
          85.28571428571433,
          88.0476190476191,
          85.80952380952385,
          80.2380952380953,
          75.33333333333339,
          74.33333333333339,
          81.19047619047625,
          86.80952380952385,
          87.57142857142863,
          84.47619047619054,
          79.09523809523814,
          74.42857142857147,
          75.52380952380958,
          82.61904761904768,
          88.71428571428578,
          92.6904761904762,
          89.11904761904766,
          73.66666666666674
         ],
         "yaxis": "y2"
        }
       ],
       "layout": {
        "title": {
         "text": "Searches for Meeting vs Bar"
        },
        "xaxis": {
         "rangeselector": {
          "buttons": [
           {
            "count": 7,
            "label": "1w",
            "step": "day",
            "stepmode": "backward"
           },
           {
            "count": 1,
            "label": "1m",
            "step": "month",
            "stepmode": "backward"
           },
           {
            "step": "all"
           }
          ]
         },
         "rangeslider": {
          "visible": true
         },
         "type": "date"
        },
        "yaxis": {
         "title": {
          "text": "Meeting freq"
         }
        },
        "yaxis2": {
         "overlaying": "y",
         "side": "right",
         "title": {
          "text": "Bar freq"
         }
        }
       }
      },
      "text/html": [
       "<div>\n",
       "        \n",
       "        \n",
       "            <div id=\"66b55f1b-ac5e-4bc9-b675-e41937bbe8e3\" class=\"plotly-graph-div\" style=\"height:525px; width:100%;\"></div>\n",
       "            <script type=\"text/javascript\">\n",
       "                require([\"plotly\"], function(Plotly) {\n",
       "                    window.PLOTLYENV=window.PLOTLYENV || {};\n",
       "                    window.PLOTLYENV.BASE_URL='https://plot.ly';\n",
       "                    \n",
       "                if (document.getElementById(\"66b55f1b-ac5e-4bc9-b675-e41937bbe8e3\")) {\n",
       "                    Plotly.newPlot(\n",
       "                        '66b55f1b-ac5e-4bc9-b675-e41937bbe8e3',\n",
       "                        [{\"name\": \"Meeting\", \"type\": \"scatter\", \"uid\": \"f1fccc0f-68ce-4442-8766-d570133a3074\", \"x\": [\"2019-03-26\", \"2019-03-27\", \"2019-03-28\", \"2019-03-29\", \"2019-03-30\", \"2019-03-31\", \"2019-04-01\", \"2019-04-02\", \"2019-04-03\", \"2019-04-04\", \"2019-04-05\", \"2019-04-06\", \"2019-04-07\", \"2019-04-08\", \"2019-04-09\", \"2019-04-10\", \"2019-04-11\", \"2019-04-12\", \"2019-04-13\", \"2019-04-14\", \"2019-04-15\", \"2019-04-16\", \"2019-04-17\", \"2019-04-18\", \"2019-04-19\", \"2019-04-20\", \"2019-04-21\", \"2019-04-22\", \"2019-04-23\", \"2019-04-24\", \"2019-04-25\", \"2019-04-26\", \"2019-04-27\", \"2019-04-28\", \"2019-04-29\", \"2019-04-30\", \"2019-05-01\", \"2019-05-02\", \"2019-05-03\", \"2019-05-04\", \"2019-05-05\", \"2019-05-06\", \"2019-05-07\", \"2019-05-08\", \"2019-05-09\", \"2019-05-10\", \"2019-05-11\", \"2019-05-12\", \"2019-05-13\", \"2019-05-14\", \"2019-05-15\", \"2019-05-16\", \"2019-05-17\", \"2019-05-18\", \"2019-05-19\", \"2019-05-20\", \"2019-05-21\", \"2019-05-22\", \"2019-05-23\", \"2019-05-24\", \"2019-05-25\", \"2019-05-26\", \"2019-05-27\", \"2019-05-28\", \"2019-05-29\", \"2019-05-30\", \"2019-05-31\", \"2019-06-01\", \"2019-06-02\", \"2019-06-03\", \"2019-06-04\", \"2019-06-05\", \"2019-06-06\", \"2019-06-07\", \"2019-06-08\", \"2019-06-09\", \"2019-06-10\", \"2019-06-11\", \"2019-06-12\", \"2019-06-13\", \"2019-06-14\", \"2019-06-15\", \"2019-06-16\", \"2019-06-17\", \"2019-06-18\", \"2019-06-19\", \"2019-06-20\", \"2019-06-21\", \"2019-06-22\", \"2019-06-23\", \"2019-06-24\"], \"y\": [10.833333333333316, 11.380952380952376, 10.095238095238095, 8.14285714285715, 7.333333333333338, 7.666666666666671, 9.14285714285715, 11.000000000000007, 11.904761904761912, 10.761904761904768, 8.809523809523816, 7.809523809523815, 8.0952380952381, 9.33333333333334, 10.95238095238096, 11.380952380952387, 9.714285714285719, 7.809523809523815, 6.666666666666671, 6.809523809523814, 7.90476190476191, 9.904761904761912, 10.285714285714292, 9.000000000000005, 7.047619047619053, 5.761904761904766, 5.904761904761909, 7.476190476190482, 9.285714285714292, 10.428571428571434, 9.714285714285719, 7.952380952380958, 7.2380952380952435, 7.380952380952386, 8.380952380952387, 9.90476190476191, 10.619047619047626, 9.523809523809529, 8.047619047619053, 7.000000000000005, 7.2380952380952435, 8.238095238095244, 10.095238095238102, 11.047619047619055, 10.095238095238102, 8.142857142857148, 7.285714285714292, 7.428571428571434, 8.571428571428577, 10.380952380952387, 11.285714285714292, 9.857142857142865, 7.857142857142863, 6.952380952380958, 7.142857142857148, 8.523809523809529, 10.33333333333334, 10.904761904761912, 9.666666666666671, 8.142857142857148, 6.809523809523815, 6.523809523809528, 7.380952380952386, 9.047619047619053, 10.190476190476197, 9.809523809523816, 7.952380952380958, 7.142857142857148, 7.523809523809529, 8.666666666666671, 10.238095238095244, 10.904761904761912, 9.666666666666671, 7.857142857142863, 7.142857142857148, 7.523809523809529, 8.666666666666671, 10.14285714285715, 11.047619047619055, 9.952380952380958, 8.190476190476197, 7.428571428571434, 7.476190476190482, 8.761904761904768, 10.761904761904768, 12.14285714285715, 11.047619047619055, 9.238095238095244, 7.214285714285715, 6.928571428571416, 9.880952380952353]}, {\"name\": \"Bar\", \"type\": \"scatter\", \"uid\": \"7b20a01f-177c-477a-a65e-6d1c4e5ff258\", \"x\": [\"2019-03-26\", \"2019-03-27\", \"2019-03-28\", \"2019-03-29\", \"2019-03-30\", \"2019-03-31\", \"2019-04-01\", \"2019-04-02\", \"2019-04-03\", \"2019-04-04\", \"2019-04-05\", \"2019-04-06\", \"2019-04-07\", \"2019-04-08\", \"2019-04-09\", \"2019-04-10\", \"2019-04-11\", \"2019-04-12\", \"2019-04-13\", \"2019-04-14\", \"2019-04-15\", \"2019-04-16\", \"2019-04-17\", \"2019-04-18\", \"2019-04-19\", \"2019-04-20\", \"2019-04-21\", \"2019-04-22\", \"2019-04-23\", \"2019-04-24\", \"2019-04-25\", \"2019-04-26\", \"2019-04-27\", \"2019-04-28\", \"2019-04-29\", \"2019-04-30\", \"2019-05-01\", \"2019-05-02\", \"2019-05-03\", \"2019-05-04\", \"2019-05-05\", \"2019-05-06\", \"2019-05-07\", \"2019-05-08\", \"2019-05-09\", \"2019-05-10\", \"2019-05-11\", \"2019-05-12\", \"2019-05-13\", \"2019-05-14\", \"2019-05-15\", \"2019-05-16\", \"2019-05-17\", \"2019-05-18\", \"2019-05-19\", \"2019-05-20\", \"2019-05-21\", \"2019-05-22\", \"2019-05-23\", \"2019-05-24\", \"2019-05-25\", \"2019-05-26\", \"2019-05-27\", \"2019-05-28\", \"2019-05-29\", \"2019-05-30\", \"2019-05-31\", \"2019-06-01\", \"2019-06-02\", \"2019-06-03\", \"2019-06-04\", \"2019-06-05\", \"2019-06-06\", \"2019-06-07\", \"2019-06-08\", \"2019-06-09\", \"2019-06-10\", \"2019-06-11\", \"2019-06-12\", \"2019-06-13\", \"2019-06-14\", \"2019-06-15\", \"2019-06-16\", \"2019-06-17\", \"2019-06-18\", \"2019-06-19\", \"2019-06-20\", \"2019-06-21\", \"2019-06-22\", \"2019-06-23\", \"2019-06-24\"], \"y\": [71.47619047619061, 69.83333333333333, 76.76190476190472, 86.09523809523814, 87.09523809523814, 83.1428571428572, 75.2380952380953, 68.1428571428572, 69.61904761904768, 78.28571428571433, 86.00000000000006, 88.00000000000006, 84.33333333333339, 76.76190476190482, 69.52380952380956, 69.95238095238099, 78.76190476190482, 85.66666666666671, 86.2380952380953, 83.00000000000006, 76.19047619047625, 71.47619047619052, 75.28571428571433, 83.19047619047625, 87.52380952380958, 87.80952380952385, 82.57142857142863, 75.33333333333339, 69.80952380952385, 69.7619047619048, 75.76190476190482, 82.71428571428577, 83.57142857142861, 80.80952380952385, 78.1428571428572, 73.38095238095244, 76.952380952381, 85.0476190476191, 90.00000000000006, 88.1428571428572, 84.33333333333339, 75.42857142857147, 69.66666666666671, 69.61904761904768, 77.47619047619052, 82.85714285714292, 83.66666666666671, 80.80952380952385, 74.42857142857147, 69.1428571428572, 70.00000000000004, 78.76190476190482, 86.57142857142863, 88.38095238095244, 84.76190476190482, 77.33333333333339, 68.57142857142861, 68.57142857142861, 76.80952380952385, 83.42857142857147, 86.09523809523814, 83.57142857142863, 77.00000000000006, 70.61904761904766, 71.76190476190482, 78.66666666666671, 86.33333333333339, 87.57142857142863, 84.52380952380958, 78.00000000000006, 71.47619047619052, 72.09523809523814, 78.52380952380958, 85.28571428571433, 88.0476190476191, 85.80952380952385, 80.2380952380953, 75.33333333333339, 74.33333333333339, 81.19047619047625, 86.80952380952385, 87.57142857142863, 84.47619047619054, 79.09523809523814, 74.42857142857147, 75.52380952380958, 82.61904761904768, 88.71428571428578, 92.6904761904762, 89.11904761904766, 73.66666666666674], \"yaxis\": \"y2\"}],\n",
       "                        {\"title\": {\"text\": \"Searches for Meeting vs Bar\"}, \"xaxis\": {\"rangeselector\": {\"buttons\": [{\"count\": 7, \"label\": \"1w\", \"step\": \"day\", \"stepmode\": \"backward\"}, {\"count\": 1, \"label\": \"1m\", \"step\": \"month\", \"stepmode\": \"backward\"}, {\"step\": \"all\"}]}, \"rangeslider\": {\"visible\": true}, \"type\": \"date\"}, \"yaxis\": {\"title\": {\"text\": \"Meeting freq\"}}, \"yaxis2\": {\"overlaying\": \"y\", \"side\": \"right\", \"title\": {\"text\": \"Bar freq\"}}},\n",
       "                        {\"showLink\": false, \"linkText\": \"Export to plot.ly\", \"plotlyServerURL\": \"https://plot.ly\", \"responsive\": true}\n",
       "                    ).then(function(){\n",
       "                            \n",
       "var gd = document.getElementById('66b55f1b-ac5e-4bc9-b675-e41937bbe8e3');\n",
       "var x = new MutationObserver(function (mutations, observer) {{\n",
       "        var display = window.getComputedStyle(gd).display;\n",
       "        if (!display || display === 'none') {{\n",
       "            console.log([gd, 'removed!']);\n",
       "            Plotly.purge(gd);\n",
       "            observer.disconnect();\n",
       "        }}\n",
       "}});\n",
       "\n",
       "// Listen for the removal of the full notebook cells\n",
       "var notebookContainer = gd.closest('#notebook-container');\n",
       "if (notebookContainer) {{\n",
       "    x.observe(notebookContainer, {childList: true});\n",
       "}}\n",
       "\n",
       "// Listen for the clearing of the current output cell\n",
       "var outputEl = gd.closest('.output');\n",
       "if (outputEl) {{\n",
       "    x.observe(outputEl, {childList: true});\n",
       "}}\n",
       "\n",
       "                        })\n",
       "                };\n",
       "                });\n",
       "            </script>\n",
       "        </div>"
      ]
     },
     "metadata": {},
     "output_type": "display_data"
    }
   ],
   "source": [
    "trace_meeting = go.Scatter(x=list(df['Day']),\n",
    "                           y=signal.savgol_filter(list(df['meeting']), 7, 3),\n",
    "                           name='Meeting')\n",
    "\n",
    "trace_bar = go.Scatter(x=list(df['Day']),\n",
    "                       y=signal.savgol_filter(list(df['bar']), 7, 3),\n",
    "                       yaxis='y2',\n",
    "                       name='Bar')\n",
    "\n",
    "\n",
    "data = [trace_meeting, trace_bar]\n",
    "layout = dict(\n",
    "    title='Searches for Meeting vs Bar',\n",
    "    xaxis=dict(\n",
    "        rangeselector=dict(\n",
    "            buttons=list([\n",
    "                dict(count=7,\n",
    "                     label='1w',\n",
    "                     step='day',\n",
    "                     stepmode='backward'),\n",
    "                dict(count=1,\n",
    "                     label='1m',\n",
    "                     step='month',\n",
    "                     stepmode='backward'),\n",
    "                dict(step='all')\n",
    "            ])\n",
    "        ),\n",
    "        rangeslider=dict(\n",
    "            visible = True\n",
    "        ),\n",
    "        type='date'),\n",
    "    yaxis=dict(\n",
    "        title='Meeting freq'\n",
    "    ),\n",
    "    yaxis2=dict(\n",
    "        title='Bar freq',\n",
    "        overlaying='y',\n",
    "        side='right'\n",
    "    )\n",
    ")\n",
    "\n",
    "\n",
    "fig = dict(data=data, layout=layout)\n",
    "iplot(fig)"
   ]
  },
  {
   "cell_type": "markdown",
   "metadata": {},
   "source": [
    "Above is an example of an interactive plot. THere are a bunch of things that come for _free_ with every plotly graph\n",
    "- A bunch of controls at the top right\n",
    "- Showing the exact values on hover\n",
    "- Toggling data on/off on legends\n",
    "\n",
    "On top of these, we added a few more:\n",
    "- Since this is a time-series chart, we added \"1w\" and \"1m\" buttons which show data for last week and last month respectively\n",
    "- We added a range selector which selects the time range to any period we want to select.\n",
    "\n",
    "These interactions are a just the tip of the iceberg - plotly allows for many types of interactions in its charts.\n",
    "\n",
    "The syntax and type structure for plotly is different from matplotlib, and I'm not going to spend much time more time discussing that - [plotly's website](https://plot.ly/python/) has a very large selection of tutorials."
   ]
  },
  {
   "cell_type": "markdown",
   "metadata": {},
   "source": [
    "## Statistical plots using Seaborn\n",
    "\n",
    "Seaborn is one of the most powerful python libraries for statistical analysis and data science uses. In the examples below, you will see why.\n",
    "\n",
    "It uses matplotlib internally, so changes in rcParams will affect the seaborn output as well. If you have to create multiple subplots in one chart, you can provide the `Axes` objects to seaborn function calls.\n",
    "\n",
    "It typically will be part of you conda installation."
   ]
  },
  {
   "cell_type": "code",
   "execution_count": 38,
   "metadata": {},
   "outputs": [],
   "source": [
    "import seaborn as sns"
   ]
  },
  {
   "cell_type": "markdown",
   "metadata": {},
   "source": [
    "For this example, we use a common data set called **Saratoga House Prices**, which is used to practice building data science models to predict how a house price depends on size of house, number of rooms, age of house, etc.\n",
    "\n",
    "The price in this data is a multiple of $1000. Clearly, this data is quite old!"
   ]
  },
  {
   "cell_type": "code",
   "execution_count": 42,
   "metadata": {},
   "outputs": [
    {
     "data": {
      "text/html": [
       "<div>\n",
       "<style scoped>\n",
       "    .dataframe tbody tr th:only-of-type {\n",
       "        vertical-align: middle;\n",
       "    }\n",
       "\n",
       "    .dataframe tbody tr th {\n",
       "        vertical-align: top;\n",
       "    }\n",
       "\n",
       "    .dataframe thead th {\n",
       "        text-align: right;\n",
       "    }\n",
       "</style>\n",
       "<table border=\"1\" class=\"dataframe\">\n",
       "  <thead>\n",
       "    <tr style=\"text-align: right;\">\n",
       "      <th></th>\n",
       "      <th>Price</th>\n",
       "      <th>Size</th>\n",
       "      <th>Baths</th>\n",
       "      <th>Bedrooms</th>\n",
       "      <th>Fireplace</th>\n",
       "      <th>Acres</th>\n",
       "      <th>Age</th>\n",
       "    </tr>\n",
       "  </thead>\n",
       "  <tbody>\n",
       "    <tr>\n",
       "      <th>0</th>\n",
       "      <td>142.212</td>\n",
       "      <td>1.982</td>\n",
       "      <td>1.0</td>\n",
       "      <td>3</td>\n",
       "      <td>0</td>\n",
       "      <td>2.00</td>\n",
       "      <td>133</td>\n",
       "    </tr>\n",
       "    <tr>\n",
       "      <th>1</th>\n",
       "      <td>134.865</td>\n",
       "      <td>1.676</td>\n",
       "      <td>1.5</td>\n",
       "      <td>3</td>\n",
       "      <td>1</td>\n",
       "      <td>0.38</td>\n",
       "      <td>14</td>\n",
       "    </tr>\n",
       "    <tr>\n",
       "      <th>2</th>\n",
       "      <td>118.007</td>\n",
       "      <td>1.694</td>\n",
       "      <td>2.0</td>\n",
       "      <td>3</td>\n",
       "      <td>1</td>\n",
       "      <td>0.96</td>\n",
       "      <td>15</td>\n",
       "    </tr>\n",
       "    <tr>\n",
       "      <th>3</th>\n",
       "      <td>138.297</td>\n",
       "      <td>1.800</td>\n",
       "      <td>1.0</td>\n",
       "      <td>2</td>\n",
       "      <td>1</td>\n",
       "      <td>0.48</td>\n",
       "      <td>49</td>\n",
       "    </tr>\n",
       "    <tr>\n",
       "      <th>4</th>\n",
       "      <td>129.470</td>\n",
       "      <td>2.088</td>\n",
       "      <td>1.0</td>\n",
       "      <td>3</td>\n",
       "      <td>1</td>\n",
       "      <td>1.84</td>\n",
       "      <td>29</td>\n",
       "    </tr>\n",
       "  </tbody>\n",
       "</table>\n",
       "</div>"
      ],
      "text/plain": [
       "     Price   Size  Baths  Bedrooms  Fireplace  Acres  Age\n",
       "0  142.212  1.982    1.0         3          0   2.00  133\n",
       "1  134.865  1.676    1.5         3          1   0.38   14\n",
       "2  118.007  1.694    2.0         3          1   0.96   15\n",
       "3  138.297  1.800    1.0         2          1   0.48   49\n",
       "4  129.470  2.088    1.0         3          1   1.84   29"
      ]
     },
     "execution_count": 42,
     "metadata": {},
     "output_type": "execute_result"
    }
   ],
   "source": [
    "house_df = pd.read_csv('saratoga-house-prices.csv')\n",
    "house_df.head(5)"
   ]
  },
  {
   "cell_type": "markdown",
   "metadata": {},
   "source": [
    "First, let's look at the histogram of price values. This is not very complicated in matplotlib too, but seaborn gives a much nicer chart by default."
   ]
  },
  {
   "cell_type": "code",
   "execution_count": 53,
   "metadata": {},
   "outputs": [
    {
     "name": "stderr",
     "output_type": "stream",
     "text": [
      "/home/aman/miniconda3/lib/python3.6/site-packages/scipy/stats/stats.py:1713: FutureWarning:\n",
      "\n",
      "Using a non-tuple sequence for multidimensional indexing is deprecated; use `arr[tuple(seq)]` instead of `arr[seq]`. In the future this will be interpreted as an array index, `arr[np.array(seq)]`, which will result either in an error or a different result.\n",
      "\n"
     ]
    },
    {
     "data": {
      "text/plain": [
       "<matplotlib.axes._subplots.AxesSubplot at 0x7fe47e8100f0>"
      ]
     },
     "execution_count": 53,
     "metadata": {},
     "output_type": "execute_result"
    },
    {
     "data": {
      "image/png": "[encoded data removed]",
      "text/plain": [
       "<Figure size 432x288 with 1 Axes>"
      ]
     },
     "metadata": {},
     "output_type": "display_data"
    }
   ],
   "source": [
    "sns.distplot(house_df['Price'])"
   ]
  },
  {
   "cell_type": "markdown",
   "metadata": {},
   "source": [
    "Now, let's look at something called a box plot. In this case, we are trying to understand the range of prices for each count of the bedrooms."
   ]
  },
  {
   "cell_type": "code",
   "execution_count": 54,
   "metadata": {},
   "outputs": [
    {
     "data": {
      "image/png": "[encoded data removed]",
      "text/plain": [
       "<Figure size 360x360 with 1 Axes>"
      ]
     },
     "metadata": {},
     "output_type": "display_data"
    }
   ],
   "source": [
    "sns.catplot(x=\"Bedrooms\", y=\"Price\", kind=\"box\", data=house_df);"
   ]
  },
  {
   "cell_type": "markdown",
   "metadata": {},
   "source": [
    "The function `relplot()` creates a regular scatter plot. It has one interesting option - to add a 3d dimension, and displaying that using color of the dots.\n",
    "\n",
    "In the example below, We are looking at the relationship between Size and Price, and also understanding how the addition of a fireplace affects the price."
   ]
  },
  {
   "cell_type": "code",
   "execution_count": 56,
   "metadata": {},
   "outputs": [
    {
     "data": {
      "image/png": "[encoded data removed]",
      "text/plain": [
       "<Figure size 450.475x360 with 1 Axes>"
      ]
     },
     "metadata": {},
     "output_type": "display_data"
    }
   ],
   "source": [
    "sns.relplot(x=\"Size\", y=\"Price\", hue=\"Fireplace\", data=house_df);"
   ]
  },
  {
   "cell_type": "markdown",
   "metadata": {},
   "source": [
    "Now comes the really powerful part. From the scatter plot, we expect the price of the house to go up with size. If we created a linear model of this relationship, how will it look like?\n",
    "\n",
    "In seaborn, you can just call `lmplot()`. It internally creates a linear regression model, and plots the linear regression line. Not only that, it also adds a 95 percentile error range for that linear model (i.e., higher that error, lower the prediction power of the regression model)!"
   ]
  },
  {
   "cell_type": "code",
   "execution_count": 57,
   "metadata": {},
   "outputs": [
    {
     "name": "stderr",
     "output_type": "stream",
     "text": [
      "/home/aman/miniconda3/lib/python3.6/site-packages/scipy/stats/stats.py:1713: FutureWarning:\n",
      "\n",
      "Using a non-tuple sequence for multidimensional indexing is deprecated; use `arr[tuple(seq)]` instead of `arr[seq]`. In the future this will be interpreted as an array index, `arr[np.array(seq)]`, which will result either in an error or a different result.\n",
      "\n"
     ]
    },
    {
     "data": {
      "image/png": "[encoded data removed]",
      "text/plain": [
       "<Figure size 504x504 with 1 Axes>"
      ]
     },
     "metadata": {},
     "output_type": "display_data"
    }
   ],
   "source": [
    "sns.set(color_codes=True)\n",
    "sns.lmplot(x=\"Size\", y=\"Price\", height=7, data=house_df);"
   ]
  },
  {
   "cell_type": "markdown",
   "metadata": {},
   "source": [
    "Here is another one, where we look at price as a function of age. If we just looked at scatter plot with the naked eye, this downward relationship wouldn't be apparent."
   ]
  },
  {
   "cell_type": "code",
   "execution_count": 58,
   "metadata": {},
   "outputs": [
    {
     "name": "stderr",
     "output_type": "stream",
     "text": [
      "/home/aman/miniconda3/lib/python3.6/site-packages/scipy/stats/stats.py:1713: FutureWarning:\n",
      "\n",
      "Using a non-tuple sequence for multidimensional indexing is deprecated; use `arr[tuple(seq)]` instead of `arr[seq]`. In the future this will be interpreted as an array index, `arr[np.array(seq)]`, which will result either in an error or a different result.\n",
      "\n"
     ]
    },
    {
     "data": {
      "image/png": "[encoded data removed]",
      "text/plain": [
       "<Figure size 504x504 with 1 Axes>"
      ]
     },
     "metadata": {},
     "output_type": "display_data"
    }
   ],
   "source": [
    "sns.set(color_codes=True)\n",
    "sns.lmplot(x=\"Age\", y=\"Price\", height=7, data=house_df);"
   ]
  },
  {
   "cell_type": "code",
   "execution_count": null,
   "metadata": {},
   "outputs": [],
   "source": []
  }
 ],
 "metadata": {
  "kernelspec": {
   "display_name": "Python 3",
   "language": "python",
   "name": "python3"
  },
  "language_info": {
   "codemirror_mode": {
    "name": "ipython",
    "version": 3
   },
   "file_extension": ".py",
   "mimetype": "text/x-python",
   "name": "python",
   "nbconvert_exporter": "python",
   "pygments_lexer": "ipython3",
   "version": "3.6.7"
  }
 },
 "nbformat": 4,
 "nbformat_minor": 2
}
