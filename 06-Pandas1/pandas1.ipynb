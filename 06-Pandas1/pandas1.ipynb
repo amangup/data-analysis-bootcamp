{
 "cells": [
  {
   "cell_type": "markdown",
   "metadata": {},
   "source": [
    "# Pandas lecture 1\n",
    "\n",
    "In this class, we will start our deep dive into the `pandas` library. This lecture tries to lay the foundation of how pandas data types function. There are also a lot of details in most of the section. It is important that you understand each of the details, but refer back to them as you need them.\n",
    "\n",
    "`pandas` is a huge library, and there are multiple ways of doing everything. We are only going to learn a few of those ways."
   ]
  },
  {
   "cell_type": "code",
   "execution_count": 2,
   "metadata": {},
   "outputs": [],
   "source": [
    "import pandas as pd"
   ]
  },
  {
   "cell_type": "markdown",
   "metadata": {},
   "source": [
    "## Introducing pandas data types\n",
    "\n",
    "### Series\n",
    "\n",
    "- `Series` is a datatype in `pandas` for storing an array of data. It is similar to `list` in the way that there is an order of elements in the `Series`. \n",
    "- In addition, it also has an index, i.e., every element in the `Series` is mapped to a _key_. This is similar to a `dict`, though unlike a dictionary, the `Series` has an order.\n",
    "- The index to value mapping never changes by itself, only if you manually change the index. Thus, you can use the index to define an order.\n",
    "\n",
    "#### Creating a series\n",
    "\n",
    "Here are some ways to create an object of type `Series`."
   ]
  },
  {
   "cell_type": "code",
   "execution_count": 7,
   "metadata": {},
   "outputs": [
    {
     "data": {
      "text/plain": [
       "0    1\n",
       "1    2\n",
       "2    3\n",
       "3    4\n",
       "4    5\n",
       "dtype: int64"
      ]
     },
     "execution_count": 7,
     "metadata": {},
     "output_type": "execute_result"
    }
   ],
   "source": [
    "series_simple = pd.Series([1, 2, 3, 4, 5])\n",
    "series_simple"
   ]
  },
  {
   "cell_type": "markdown",
   "metadata": {},
   "source": [
    "- Note that two columns are printed. The left one is the index column, the right column is the data column\n",
    "- `Series` type also takes note of the data type of the data in the series, as you can see in the last line of the output above. `dtype` can be specificed when creating the `Series`, or you can let `pandas` infer it automatically."
   ]
  },
  {
   "cell_type": "code",
   "execution_count": 9,
   "metadata": {},
   "outputs": [
    {
     "data": {
      "text/plain": [
       "a    1\n",
       "b    2\n",
       "c    3\n",
       "d    4\n",
       "e    5\n",
       "dtype: int64"
      ]
     },
     "execution_count": 9,
     "metadata": {},
     "output_type": "execute_result"
    }
   ],
   "source": [
    "series_custom_index = pd.Series([1, 2, 3, 4, 5], index=['a', 'b', 'c', 'd', 'e'])\n",
    "series_custom_index"
   ]
  },
  {
   "cell_type": "code",
   "execution_count": 11,
   "metadata": {},
   "outputs": [
    {
     "data": {
      "text/plain": [
       "c    1\n",
       "b    2\n",
       "a    3\n",
       "dtype: int64"
      ]
     },
     "execution_count": 11,
     "metadata": {},
     "output_type": "execute_result"
    }
   ],
   "source": [
    "dict = {'c': 1, 'b': 2, 'a': 3}\n",
    "series_from_dict = pd.Series(dict)\n",
    "series_from_dict"
   ]
  },
  {
   "cell_type": "code",
   "execution_count": 14,
   "metadata": {},
   "outputs": [
    {
     "data": {
      "text/plain": [
       "0    7\n",
       "dtype: int64"
      ]
     },
     "execution_count": 14,
     "metadata": {},
     "output_type": "execute_result"
    }
   ],
   "source": [
    "series_scalar = pd.Series(7)\n",
    "series_scalar"
   ]
  },
  {
   "cell_type": "code",
   "execution_count": 19,
   "metadata": {},
   "outputs": [
    {
     "data": {
      "text/plain": [
       "10    7\n",
       "11    7\n",
       "12    7\n",
       "13    7\n",
       "14    7\n",
       "15    7\n",
       "16    7\n",
       "17    7\n",
       "18    7\n",
       "19    7\n",
       "dtype: int64"
      ]
     },
     "execution_count": 19,
     "metadata": {},
     "output_type": "execute_result"
    }
   ],
   "source": [
    "series_repeated_element = pd.Series(7, range(10,20))\n",
    "series_repeated_element"
   ]
  },
  {
   "cell_type": "code",
   "execution_count": 25,
   "metadata": {},
   "outputs": [
    {
     "data": {
      "text/plain": [
       "7"
      ]
     },
     "execution_count": 25,
     "metadata": {},
     "output_type": "execute_result"
    }
   ],
   "source": [
    "series_repeated_element.get(10)"
   ]
  },
  {
   "cell_type": "markdown",
   "metadata": {},
   "source": [
    "#### Accessing elements from Series\n",
    "\n",
    "There are many ways to access elements from a series. Let's create a simple series to see how it works."
   ]
  },
  {
   "cell_type": "code",
   "execution_count": 33,
   "metadata": {},
   "outputs": [
    {
     "data": {
      "text/plain": [
       "0    10\n",
       "1    11\n",
       "2    12\n",
       "3    13\n",
       "4    14\n",
       "5    15\n",
       "6    16\n",
       "7    17\n",
       "8    18\n",
       "9    19\n",
       "dtype: int64"
      ]
     },
     "execution_count": 33,
     "metadata": {},
     "output_type": "execute_result"
    }
   ],
   "source": [
    "series_simple = pd.Series(range(10, 20))\n",
    "series_simple"
   ]
  },
  {
   "cell_type": "markdown",
   "metadata": {},
   "source": [
    "You can use the indexing operator (`[]`) or the `get()` method to access single values, like in a list."
   ]
  },
  {
   "cell_type": "code",
   "execution_count": 34,
   "metadata": {},
   "outputs": [
    {
     "name": "stdout",
     "output_type": "stream",
     "text": [
      "indexing operator: 10\n",
      "get() method: 10\n"
     ]
    }
   ],
   "source": [
    "print(\"indexing operator:\", series_simple[0])\n",
    "print(\"get() method:\", series_simple.get(0))"
   ]
  },
  {
   "cell_type": "markdown",
   "metadata": {},
   "source": [
    "The `dict` analogy for indices as keys continues here - you can use the index value as a key to get the corresponding data value."
   ]
  },
  {
   "cell_type": "code",
   "execution_count": 48,
   "metadata": {},
   "outputs": [
    {
     "name": "stdout",
     "output_type": "stream",
     "text": [
      "3\n",
      "3\n"
     ]
    }
   ],
   "source": [
    "print(series_from_dict['a'])\n",
    "print(series_from_dict.get('a'))"
   ]
  },
  {
   "cell_type": "markdown",
   "metadata": {},
   "source": [
    "This also creates confusion. A value of 0 can be an index key, or it can be the first element in the Series. If the index is an integer, then both `[]` operator and the `get()` method work on the index value, and don't think of 0 as the first element in the Series. The example below makes it clear."
   ]
  },
  {
   "cell_type": "code",
   "execution_count": 47,
   "metadata": {},
   "outputs": [
    {
     "data": {
      "text/plain": [
       "7"
      ]
     },
     "execution_count": 47,
     "metadata": {},
     "output_type": "execute_result"
    }
   ],
   "source": [
    "# doesn't work because indices on this Series start from 10.\n",
    "# series_repeated_element[0]\n",
    "\n",
    "# works as expected, if you think of index value as the key\n",
    "series_repeated_element[10]"
   ]
  },
  {
   "cell_type": "markdown",
   "metadata": {},
   "source": [
    "Slices work like they in list. In case of a slice, there is no confusion with the index values. The slice always refers to the position of the elements in the Series, and not the value of the index."
   ]
  },
  {
   "cell_type": "code",
   "execution_count": 49,
   "metadata": {},
   "outputs": [
    {
     "data": {
      "text/plain": [
       "Series([], dtype: int64)"
      ]
     },
     "execution_count": 49,
     "metadata": {},
     "output_type": "execute_result"
    }
   ],
   "source": [
    "series_simple[10:15]"
   ]
  },
  {
   "cell_type": "markdown",
   "metadata": {},
   "source": [
    "There are many custom ways to access values from a Series, which are not present in Python `list` or `dict` types. Here are some examples:"
   ]
  },
  {
   "cell_type": "code",
   "execution_count": 39,
   "metadata": {},
   "outputs": [
    {
     "data": {
      "text/plain": [
       "1    11\n",
       "3    13\n",
       "6    16\n",
       "dtype: int64"
      ]
     },
     "execution_count": 39,
     "metadata": {},
     "output_type": "execute_result"
    }
   ],
   "source": [
    "select_values = series_simple[[1,3,6]]\n",
    "select_values"
   ]
  },
  {
   "cell_type": "code",
   "execution_count": 52,
   "metadata": {},
   "outputs": [
    {
     "data": {
      "text/plain": [
       "6    16\n",
       "7    17\n",
       "8    18\n",
       "9    19\n",
       "dtype: int64"
      ]
     },
     "execution_count": 52,
     "metadata": {},
     "output_type": "execute_result"
    }
   ],
   "source": [
    "filtered_values = series_simple[series_simple > 15]\n",
    "filtered_values"
   ]
  },
  {
   "cell_type": "markdown",
   "metadata": {},
   "source": [
    "We will spend more time on the expression language for filtering later."
   ]
  },
  {
   "cell_type": "markdown",
   "metadata": {},
   "source": [
    "#### Operators on Series objects\n",
    "\n",
    "You can run operators on the series objects to do manipulations on the data."
   ]
  },
  {
   "cell_type": "code",
   "execution_count": 66,
   "metadata": {},
   "outputs": [
    {
     "data": {
      "text/plain": [
       "0    20\n",
       "1    22\n",
       "2    24\n",
       "3    26\n",
       "4    28\n",
       "5    30\n",
       "6    32\n",
       "7    34\n",
       "8    36\n",
       "9    38\n",
       "dtype: int64"
      ]
     },
     "execution_count": 66,
     "metadata": {},
     "output_type": "execute_result"
    }
   ],
   "source": [
    "scalar_multiply = series_simple * 2\n",
    "scalar_multiply"
   ]
  },
  {
   "cell_type": "code",
   "execution_count": 67,
   "metadata": {},
   "outputs": [
    {
     "data": {
      "text/plain": [
       "0    20\n",
       "1    21\n",
       "2    22\n",
       "3    23\n",
       "4    24\n",
       "5    25\n",
       "6    26\n",
       "7    27\n",
       "8    28\n",
       "9    29\n",
       "dtype: int64"
      ]
     },
     "execution_count": 67,
     "metadata": {},
     "output_type": "execute_result"
    }
   ],
   "source": [
    "series2 = pd.Series(range(20, 30))\n",
    "series2"
   ]
  },
  {
   "cell_type": "code",
   "execution_count": 80,
   "metadata": {},
   "outputs": [
    {
     "data": {
      "text/plain": [
       "0    30\n",
       "1    32\n",
       "2    34\n",
       "3    36\n",
       "4    38\n",
       "5    40\n",
       "6    42\n",
       "7    44\n",
       "8    46\n",
       "9    48\n",
       "dtype: int64"
      ]
     },
     "execution_count": 80,
     "metadata": {},
     "output_type": "execute_result"
    }
   ],
   "source": [
    "sum_two_series = series_simple + series2\n",
    "sum_two_series"
   ]
  },
  {
   "cell_type": "markdown",
   "metadata": {},
   "source": [
    "When you sum two series (or use any other operator between two series), the summing happens element by element by matching the index. In the case above, the output for index 0 is the sum of `series_simple[0]` and `series2[0]`.\n",
    "\n",
    "What happens if both series don't have a value for a certain index?"
   ]
  },
  {
   "cell_type": "code",
   "execution_count": 63,
   "metadata": {},
   "outputs": [
    {
     "data": {
      "text/plain": [
       "0    NaN\n",
       "1    NaN\n",
       "2    NaN\n",
       "3    NaN\n",
       "4    NaN\n",
       "5    NaN\n",
       "6    NaN\n",
       "7    NaN\n",
       "8    NaN\n",
       "9    NaN\n",
       "10   NaN\n",
       "11   NaN\n",
       "12   NaN\n",
       "13   NaN\n",
       "14   NaN\n",
       "15   NaN\n",
       "16   NaN\n",
       "17   NaN\n",
       "18   NaN\n",
       "19   NaN\n",
       "dtype: float64"
      ]
     },
     "execution_count": 63,
     "metadata": {},
     "output_type": "execute_result"
    }
   ],
   "source": [
    "series2 = pd.Series(range(20,30), index=range(10,20))\n",
    "series_simple + series2"
   ]
  },
  {
   "cell_type": "markdown",
   "metadata": {},
   "source": [
    "Can you explain why we see this output?"
   ]
  },
  {
   "cell_type": "markdown",
   "metadata": {},
   "source": [
    "**Exercise:** Can you write a program to create 12 `Series` objects, where each of the `Series` objects contains multiples of 1, 2, 3, 4,...,12 respectively?"
   ]
  },
  {
   "cell_type": "markdown",
   "metadata": {},
   "source": [
    "### DataFrame\n",
    "\n",
    "- `DataFrame` is the most commonly used datatype in pandas. \n",
    "- An object of type `DataFrame` represents a _table_ of data, similar to how we talked about tables while working in SQL. But, it extends the concept of table in useful ways.\n",
    "- Internally, `DataFrame` can be thought of as a mapping from column names to `Series` objects, all of which use the same index.\n",
    "- That index is the index for the whole `DataFrame` and is used to identify the rows in the table.\n",
    "\n",
    "In the last lecture, we created a `DataFrame` object by reading a csv file. Let's do that again and explore the structure of `DataFrame` a bit."
   ]
  },
  {
   "cell_type": "code",
   "execution_count": 41,
   "metadata": {},
   "outputs": [
    {
     "data": {
      "text/html": [
       "<div>\n",
       "<style scoped>\n",
       "    .dataframe tbody tr th:only-of-type {\n",
       "        vertical-align: middle;\n",
       "    }\n",
       "\n",
       "    .dataframe tbody tr th {\n",
       "        vertical-align: top;\n",
       "    }\n",
       "\n",
       "    .dataframe thead th {\n",
       "        text-align: right;\n",
       "    }\n",
       "</style>\n",
       "<table border=\"1\" class=\"dataframe\">\n",
       "  <thead>\n",
       "    <tr style=\"text-align: right;\">\n",
       "      <th></th>\n",
       "      <th>year</th>\n",
       "      <th>position</th>\n",
       "      <th>artist</th>\n",
       "      <th>song</th>\n",
       "      <th>score</th>\n",
       "      <th>us</th>\n",
       "      <th>uk</th>\n",
       "      <th>de</th>\n",
       "      <th>fr</th>\n",
       "      <th>ca</th>\n",
       "      <th>au</th>\n",
       "    </tr>\n",
       "  </thead>\n",
       "  <tbody>\n",
       "    <tr>\n",
       "      <th>0</th>\n",
       "      <td>2000</td>\n",
       "      <td>1</td>\n",
       "      <td>Faith Hill</td>\n",
       "      <td>Breathe</td>\n",
       "      <td>24030.051</td>\n",
       "      <td>2</td>\n",
       "      <td>33</td>\n",
       "      <td>-</td>\n",
       "      <td>-</td>\n",
       "      <td>-</td>\n",
       "      <td>23</td>\n",
       "    </tr>\n",
       "    <tr>\n",
       "      <th>1</th>\n",
       "      <td>2000</td>\n",
       "      <td>2</td>\n",
       "      <td>Joe Thomas</td>\n",
       "      <td>I Wanna Know</td>\n",
       "      <td>21516.777</td>\n",
       "      <td>4</td>\n",
       "      <td>-</td>\n",
       "      <td>-</td>\n",
       "      <td>61</td>\n",
       "      <td>-</td>\n",
       "      <td>34</td>\n",
       "    </tr>\n",
       "    <tr>\n",
       "      <th>2</th>\n",
       "      <td>2000</td>\n",
       "      <td>3</td>\n",
       "      <td>Santana &amp; The Product G</td>\n",
       "      <td>Maria Maria</td>\n",
       "      <td>20941.780</td>\n",
       "      <td>1</td>\n",
       "      <td>6</td>\n",
       "      <td>-</td>\n",
       "      <td>1</td>\n",
       "      <td>-</td>\n",
       "      <td>49</td>\n",
       "    </tr>\n",
       "    <tr>\n",
       "      <th>3</th>\n",
       "      <td>2000</td>\n",
       "      <td>4</td>\n",
       "      <td>Vertical Horizon</td>\n",
       "      <td>Everything You Want</td>\n",
       "      <td>20402.965</td>\n",
       "      <td>1</td>\n",
       "      <td>42</td>\n",
       "      <td>-</td>\n",
       "      <td>-</td>\n",
       "      <td>-</td>\n",
       "      <td>24</td>\n",
       "    </tr>\n",
       "    <tr>\n",
       "      <th>4</th>\n",
       "      <td>2000</td>\n",
       "      <td>5</td>\n",
       "      <td>Toni Braxton</td>\n",
       "      <td>He Wasn't Man Enough</td>\n",
       "      <td>20068.614</td>\n",
       "      <td>2</td>\n",
       "      <td>5</td>\n",
       "      <td>-</td>\n",
       "      <td>14</td>\n",
       "      <td>-</td>\n",
       "      <td>5</td>\n",
       "    </tr>\n",
       "  </tbody>\n",
       "</table>\n",
       "</div>"
      ],
      "text/plain": [
       "   year  position                   artist                  song      score  \\\n",
       "0  2000         1               Faith Hill               Breathe  24030.051   \n",
       "1  2000         2               Joe Thomas          I Wanna Know  21516.777   \n",
       "2  2000         3  Santana & The Product G           Maria Maria  20941.780   \n",
       "3  2000         4         Vertical Horizon   Everything You Want  20402.965   \n",
       "4  2000         5             Toni Braxton  He Wasn't Man Enough  20068.614   \n",
       "\n",
       "  us  uk de  fr ca  au  \n",
       "0  2  33  -   -  -  23  \n",
       "1  4   -  -  61  -  34  \n",
       "2  1   6  -   1  -  49  \n",
       "3  1  42  -   -  -  24  \n",
       "4  2   5  -  14  -   5  "
      ]
     },
     "execution_count": 41,
     "metadata": {},
     "output_type": "execute_result"
    }
   ],
   "source": [
    "df_top_songs = pd.read_csv('top_100_songs.csv')\n",
    "df_top_songs.head(5)"
   ]
  },
  {
   "cell_type": "code",
   "execution_count": 42,
   "metadata": {},
   "outputs": [
    {
     "data": {
      "text/plain": [
       "pandas.core.series.Series"
      ]
     },
     "execution_count": 42,
     "metadata": {},
     "output_type": "execute_result"
    }
   ],
   "source": [
    "type(df_top_songs['year'])"
   ]
  },
  {
   "cell_type": "code",
   "execution_count": 43,
   "metadata": {},
   "outputs": [
    {
     "data": {
      "text/plain": [
       "140555678306992"
      ]
     },
     "execution_count": 43,
     "metadata": {},
     "output_type": "execute_result"
    }
   ],
   "source": [
    "id(df_top_songs.index)"
   ]
  },
  {
   "cell_type": "code",
   "execution_count": 44,
   "metadata": {},
   "outputs": [
    {
     "data": {
      "text/plain": [
       "140555678306992"
      ]
     },
     "execution_count": 44,
     "metadata": {},
     "output_type": "execute_result"
    }
   ],
   "source": [
    "id(df_top_songs['year'].index)"
   ]
  },
  {
   "cell_type": "markdown",
   "metadata": {},
   "source": [
    "- You can select any column of a `DataFrame` using the `dict` like syntax. \n",
    "- As you see, that the column of a `DataFrame` is stored internally as a `Series` object.\n",
    "- And if we check the memory location of `DataFrame` object's index, and the `Series` object's (that is a column in the `DataFrame`) index, they are identical. Thus, they are all using the same index instance."
   ]
  },
  {
   "cell_type": "markdown",
   "metadata": {},
   "source": [
    "#### Creating a DataFrame\n",
    "\n",
    "Like series, there are many ways to create a `DataFrame`. Since we know how to create a `Series`, let's first learn how to create a `DataFrame` using a number of `Series` objects."
   ]
  },
  {
   "cell_type": "code",
   "execution_count": 85,
   "metadata": {},
   "outputs": [
    {
     "data": {
      "text/html": [
       "<div>\n",
       "<style scoped>\n",
       "    .dataframe tbody tr th:only-of-type {\n",
       "        vertical-align: middle;\n",
       "    }\n",
       "\n",
       "    .dataframe tbody tr th {\n",
       "        vertical-align: top;\n",
       "    }\n",
       "\n",
       "    .dataframe thead th {\n",
       "        text-align: right;\n",
       "    }\n",
       "</style>\n",
       "<table border=\"1\" class=\"dataframe\">\n",
       "  <thead>\n",
       "    <tr style=\"text-align: right;\">\n",
       "      <th></th>\n",
       "      <th>one</th>\n",
       "      <th>two</th>\n",
       "    </tr>\n",
       "  </thead>\n",
       "  <tbody>\n",
       "    <tr>\n",
       "      <th>a</th>\n",
       "      <td>1.0</td>\n",
       "      <td>1</td>\n",
       "    </tr>\n",
       "    <tr>\n",
       "      <th>b</th>\n",
       "      <td>2.0</td>\n",
       "      <td>2</td>\n",
       "    </tr>\n",
       "    <tr>\n",
       "      <th>c</th>\n",
       "      <td>3.0</td>\n",
       "      <td>3</td>\n",
       "    </tr>\n",
       "    <tr>\n",
       "      <th>d</th>\n",
       "      <td>NaN</td>\n",
       "      <td>4</td>\n",
       "    </tr>\n",
       "  </tbody>\n",
       "</table>\n",
       "</div>"
      ],
      "text/plain": [
       "   one  two\n",
       "a  1.0    1\n",
       "b  2.0    2\n",
       "c  3.0    3\n",
       "d  NaN    4"
      ]
     },
     "execution_count": 85,
     "metadata": {},
     "output_type": "execute_result"
    }
   ],
   "source": [
    "series_dict = {'one': pd.Series([1, 2, 3], index=['a', 'b', 'c']),\n",
    "               'two': pd.Series([1, 2, 3, 4], index=['a', 'b', 'c', 'd'])}\n",
    "\n",
    "df_from_dict_series = pd.DataFrame(series_dict)\n",
    "df_from_dict_series"
   ]
  },
  {
   "cell_type": "markdown",
   "metadata": {},
   "source": [
    "- To create a `DataFrame` from many `Series` objects, you can create a `dict` where the keys are the names of the columns, and the `Series` objects contain the column data.\n",
    "- You can simply pass that `dict` object as an argument to the constructor of `DataFrame`, and you will get a `DataFrame` object.\n",
    "- If your individual series have non-identical indices, `pandas` will take a union of them, and fill empty slots with `NaN`."
   ]
  },
  {
   "cell_type": "code",
   "execution_count": 87,
   "metadata": {},
   "outputs": [
    {
     "data": {
      "text/html": [
       "<div>\n",
       "<style scoped>\n",
       "    .dataframe tbody tr th:only-of-type {\n",
       "        vertical-align: middle;\n",
       "    }\n",
       "\n",
       "    .dataframe tbody tr th {\n",
       "        vertical-align: top;\n",
       "    }\n",
       "\n",
       "    .dataframe thead th {\n",
       "        text-align: right;\n",
       "    }\n",
       "</style>\n",
       "<table border=\"1\" class=\"dataframe\">\n",
       "  <thead>\n",
       "    <tr style=\"text-align: right;\">\n",
       "      <th></th>\n",
       "      <th>one</th>\n",
       "      <th>two</th>\n",
       "    </tr>\n",
       "  </thead>\n",
       "  <tbody>\n",
       "    <tr>\n",
       "      <th>0</th>\n",
       "      <td>1</td>\n",
       "      <td>1</td>\n",
       "    </tr>\n",
       "    <tr>\n",
       "      <th>1</th>\n",
       "      <td>2</td>\n",
       "      <td>2</td>\n",
       "    </tr>\n",
       "    <tr>\n",
       "      <th>2</th>\n",
       "      <td>3</td>\n",
       "      <td>3</td>\n",
       "    </tr>\n",
       "    <tr>\n",
       "      <th>3</th>\n",
       "      <td>5</td>\n",
       "      <td>4</td>\n",
       "    </tr>\n",
       "  </tbody>\n",
       "</table>\n",
       "</div>"
      ],
      "text/plain": [
       "   one  two\n",
       "0    1    1\n",
       "1    2    2\n",
       "2    3    3\n",
       "3    5    4"
      ]
     },
     "execution_count": 87,
     "metadata": {},
     "output_type": "execute_result"
    }
   ],
   "source": [
    "list_dict = {'one': [1, 2, 3, 5],\n",
    "             'two': [1, 2, 3, 4]}\n",
    "\n",
    "df_from_dict_list = pd.DataFrame(list_dict)\n",
    "df_from_dict_list"
   ]
  },
  {
   "cell_type": "markdown",
   "metadata": {},
   "source": [
    "- You can simply have lists in the source dictionary, instead of `Series` objects.\n",
    "- In this case, all the lists have to be of the same length, otherwise `pandas` will raise an error.\n",
    "\n",
    "You can create a custom index too:"
   ]
  },
  {
   "cell_type": "code",
   "execution_count": 88,
   "metadata": {},
   "outputs": [
    {
     "data": {
      "text/html": [
       "<div>\n",
       "<style scoped>\n",
       "    .dataframe tbody tr th:only-of-type {\n",
       "        vertical-align: middle;\n",
       "    }\n",
       "\n",
       "    .dataframe tbody tr th {\n",
       "        vertical-align: top;\n",
       "    }\n",
       "\n",
       "    .dataframe thead th {\n",
       "        text-align: right;\n",
       "    }\n",
       "</style>\n",
       "<table border=\"1\" class=\"dataframe\">\n",
       "  <thead>\n",
       "    <tr style=\"text-align: right;\">\n",
       "      <th></th>\n",
       "      <th>one</th>\n",
       "      <th>two</th>\n",
       "    </tr>\n",
       "  </thead>\n",
       "  <tbody>\n",
       "    <tr>\n",
       "      <th>A</th>\n",
       "      <td>1</td>\n",
       "      <td>1</td>\n",
       "    </tr>\n",
       "    <tr>\n",
       "      <th>B</th>\n",
       "      <td>2</td>\n",
       "      <td>2</td>\n",
       "    </tr>\n",
       "    <tr>\n",
       "      <th>C</th>\n",
       "      <td>3</td>\n",
       "      <td>3</td>\n",
       "    </tr>\n",
       "    <tr>\n",
       "      <th>D</th>\n",
       "      <td>5</td>\n",
       "      <td>4</td>\n",
       "    </tr>\n",
       "  </tbody>\n",
       "</table>\n",
       "</div>"
      ],
      "text/plain": [
       "   one  two\n",
       "A    1    1\n",
       "B    2    2\n",
       "C    3    3\n",
       "D    5    4"
      ]
     },
     "execution_count": 88,
     "metadata": {},
     "output_type": "execute_result"
    }
   ],
   "source": [
    "df_custom_index = pd.DataFrame(list_dict, index=['A', 'B', 'C', 'D'])\n",
    "df_custom_index"
   ]
  },
  {
   "cell_type": "markdown",
   "metadata": {},
   "source": [
    "We will check out one more way to create a `DataFrame` - using a list of tuples."
   ]
  },
  {
   "cell_type": "code",
   "execution_count": 89,
   "metadata": {},
   "outputs": [
    {
     "data": {
      "text/html": [
       "<div>\n",
       "<style scoped>\n",
       "    .dataframe tbody tr th:only-of-type {\n",
       "        vertical-align: middle;\n",
       "    }\n",
       "\n",
       "    .dataframe tbody tr th {\n",
       "        vertical-align: top;\n",
       "    }\n",
       "\n",
       "    .dataframe thead th {\n",
       "        text-align: right;\n",
       "    }\n",
       "</style>\n",
       "<table border=\"1\" class=\"dataframe\">\n",
       "  <thead>\n",
       "    <tr style=\"text-align: right;\">\n",
       "      <th></th>\n",
       "      <th>Name</th>\n",
       "      <th>Gender</th>\n",
       "    </tr>\n",
       "  </thead>\n",
       "  <tbody>\n",
       "    <tr>\n",
       "      <th>0</th>\n",
       "      <td>Arya</td>\n",
       "      <td>Female</td>\n",
       "    </tr>\n",
       "    <tr>\n",
       "      <th>1</th>\n",
       "      <td>Jon Snow</td>\n",
       "      <td>Male</td>\n",
       "    </tr>\n",
       "    <tr>\n",
       "      <th>2</th>\n",
       "      <td>Varys</td>\n",
       "      <td>Male?</td>\n",
       "    </tr>\n",
       "  </tbody>\n",
       "</table>\n",
       "</div>"
      ],
      "text/plain": [
       "       Name  Gender\n",
       "0      Arya  Female\n",
       "1  Jon Snow    Male\n",
       "2     Varys   Male?"
      ]
     },
     "execution_count": 89,
     "metadata": {},
     "output_type": "execute_result"
    }
   ],
   "source": [
    "tuples = [('Arya', 'Female'), ('Jon Snow', 'Male'), ('Varys', \"Male?\")]\n",
    "df_tuples = pd.DataFrame(tuples, columns=['Name', 'Gender'])\n",
    "df_tuples"
   ]
  },
  {
   "cell_type": "markdown",
   "metadata": {},
   "source": [
    "As you can see, each tuple's data is assumed to be a row of data"
   ]
  },
  {
   "cell_type": "markdown",
   "metadata": {},
   "source": [
    "We can create a `DataFrame` from an existing dataframe, and select the columns and rows we need."
   ]
  },
  {
   "cell_type": "code",
   "execution_count": 96,
   "metadata": {},
   "outputs": [
    {
     "data": {
      "text/html": [
       "<div>\n",
       "<style scoped>\n",
       "    .dataframe tbody tr th:only-of-type {\n",
       "        vertical-align: middle;\n",
       "    }\n",
       "\n",
       "    .dataframe tbody tr th {\n",
       "        vertical-align: top;\n",
       "    }\n",
       "\n",
       "    .dataframe thead th {\n",
       "        text-align: right;\n",
       "    }\n",
       "</style>\n",
       "<table border=\"1\" class=\"dataframe\">\n",
       "  <thead>\n",
       "    <tr style=\"text-align: right;\">\n",
       "      <th></th>\n",
       "      <th>year</th>\n",
       "      <th>position</th>\n",
       "      <th>artist</th>\n",
       "      <th>song</th>\n",
       "      <th>score</th>\n",
       "      <th>us</th>\n",
       "      <th>uk</th>\n",
       "      <th>de</th>\n",
       "      <th>fr</th>\n",
       "      <th>ca</th>\n",
       "      <th>au</th>\n",
       "    </tr>\n",
       "  </thead>\n",
       "  <tbody>\n",
       "    <tr>\n",
       "      <th>95</th>\n",
       "      <td>2000</td>\n",
       "      <td>96</td>\n",
       "      <td>Toby Keith</td>\n",
       "      <td>How Do You Like Me Now?!</td>\n",
       "      <td>6158.155</td>\n",
       "      <td>31</td>\n",
       "      <td>-</td>\n",
       "      <td>-</td>\n",
       "      <td>-</td>\n",
       "      <td>-</td>\n",
       "      <td>-</td>\n",
       "    </tr>\n",
       "    <tr>\n",
       "      <th>96</th>\n",
       "      <td>2000</td>\n",
       "      <td>97</td>\n",
       "      <td>Jessica Simpson</td>\n",
       "      <td>I Think I'm In Love With You</td>\n",
       "      <td>6113.016</td>\n",
       "      <td>21</td>\n",
       "      <td>15</td>\n",
       "      <td>-</td>\n",
       "      <td>-</td>\n",
       "      <td>-</td>\n",
       "      <td>10</td>\n",
       "    </tr>\n",
       "    <tr>\n",
       "      <th>97</th>\n",
       "      <td>2000</td>\n",
       "      <td>98</td>\n",
       "      <td>The Goo Goo Dolls</td>\n",
       "      <td>Broadway</td>\n",
       "      <td>6033.618</td>\n",
       "      <td>24</td>\n",
       "      <td>-</td>\n",
       "      <td>-</td>\n",
       "      <td>-</td>\n",
       "      <td>-</td>\n",
       "      <td>-</td>\n",
       "    </tr>\n",
       "    <tr>\n",
       "      <th>98</th>\n",
       "      <td>2000</td>\n",
       "      <td>99</td>\n",
       "      <td>Britney Spears</td>\n",
       "      <td>From The Bottom Of My Broken Heart</td>\n",
       "      <td>6020.750</td>\n",
       "      <td>14</td>\n",
       "      <td>-</td>\n",
       "      <td>-</td>\n",
       "      <td>-</td>\n",
       "      <td>-</td>\n",
       "      <td>37</td>\n",
       "    </tr>\n",
       "    <tr>\n",
       "      <th>99</th>\n",
       "      <td>2000</td>\n",
       "      <td>100</td>\n",
       "      <td>Lee Ann Womack</td>\n",
       "      <td>I Hope You Dance</td>\n",
       "      <td>5976.019</td>\n",
       "      <td>32</td>\n",
       "      <td>-</td>\n",
       "      <td>-</td>\n",
       "      <td>-</td>\n",
       "      <td>-</td>\n",
       "      <td>-</td>\n",
       "    </tr>\n",
       "  </tbody>\n",
       "</table>\n",
       "</div>"
      ],
      "text/plain": [
       "    year  position             artist                                song  \\\n",
       "95  2000        96         Toby Keith            How Do You Like Me Now?!   \n",
       "96  2000        97    Jessica Simpson        I Think I'm In Love With You   \n",
       "97  2000        98  The Goo Goo Dolls                            Broadway   \n",
       "98  2000        99     Britney Spears  From The Bottom Of My Broken Heart   \n",
       "99  2000       100     Lee Ann Womack                    I Hope You Dance   \n",
       "\n",
       "       score  us  uk de fr ca  au  \n",
       "95  6158.155  31   -  -  -  -   -  \n",
       "96  6113.016  21  15  -  -  -  10  \n",
       "97  6033.618  24   -  -  -  -   -  \n",
       "98  6020.750  14   -  -  -  -  37  \n",
       "99  5976.019  32   -  -  -  -   -  "
      ]
     },
     "execution_count": 96,
     "metadata": {},
     "output_type": "execute_result"
    }
   ],
   "source": [
    "df_select_index = pd.DataFrame(df_top_songs, index=range(100))\n",
    "df_select_index.tail(5)"
   ]
  },
  {
   "cell_type": "code",
   "execution_count": 97,
   "metadata": {},
   "outputs": [
    {
     "data": {
      "text/html": [
       "<div>\n",
       "<style scoped>\n",
       "    .dataframe tbody tr th:only-of-type {\n",
       "        vertical-align: middle;\n",
       "    }\n",
       "\n",
       "    .dataframe tbody tr th {\n",
       "        vertical-align: top;\n",
       "    }\n",
       "\n",
       "    .dataframe thead th {\n",
       "        text-align: right;\n",
       "    }\n",
       "</style>\n",
       "<table border=\"1\" class=\"dataframe\">\n",
       "  <thead>\n",
       "    <tr style=\"text-align: right;\">\n",
       "      <th></th>\n",
       "      <th>year</th>\n",
       "      <th>position</th>\n",
       "      <th>artist</th>\n",
       "      <th>song</th>\n",
       "    </tr>\n",
       "  </thead>\n",
       "  <tbody>\n",
       "    <tr>\n",
       "      <th>0</th>\n",
       "      <td>2000</td>\n",
       "      <td>1</td>\n",
       "      <td>Faith Hill</td>\n",
       "      <td>Breathe</td>\n",
       "    </tr>\n",
       "    <tr>\n",
       "      <th>1</th>\n",
       "      <td>2000</td>\n",
       "      <td>2</td>\n",
       "      <td>Joe Thomas</td>\n",
       "      <td>I Wanna Know</td>\n",
       "    </tr>\n",
       "    <tr>\n",
       "      <th>2</th>\n",
       "      <td>2000</td>\n",
       "      <td>3</td>\n",
       "      <td>Santana &amp; The Product G</td>\n",
       "      <td>Maria Maria</td>\n",
       "    </tr>\n",
       "    <tr>\n",
       "      <th>3</th>\n",
       "      <td>2000</td>\n",
       "      <td>4</td>\n",
       "      <td>Vertical Horizon</td>\n",
       "      <td>Everything You Want</td>\n",
       "    </tr>\n",
       "    <tr>\n",
       "      <th>4</th>\n",
       "      <td>2000</td>\n",
       "      <td>5</td>\n",
       "      <td>Toni Braxton</td>\n",
       "      <td>He Wasn't Man Enough</td>\n",
       "    </tr>\n",
       "  </tbody>\n",
       "</table>\n",
       "</div>"
      ],
      "text/plain": [
       "   year  position                   artist                  song\n",
       "0  2000         1               Faith Hill               Breathe\n",
       "1  2000         2               Joe Thomas          I Wanna Know\n",
       "2  2000         3  Santana & The Product G           Maria Maria\n",
       "3  2000         4         Vertical Horizon   Everything You Want\n",
       "4  2000         5             Toni Braxton  He Wasn't Man Enough"
      ]
     },
     "execution_count": 97,
     "metadata": {},
     "output_type": "execute_result"
    }
   ],
   "source": [
    "df_select_columns = pd.DataFrame(df_top_songs, columns=['year', 'position', 'artist', 'song'])\n",
    "df_select_columns.head(5)"
   ]
  },
  {
   "cell_type": "markdown",
   "metadata": {},
   "source": [
    "- In above two cases, we create a new `DataFrame` from the top_songs dataframe, once by selecting a few rows, and then by selecting only a few columns. Obviously, we can combine both selections.\n",
    "- It is useful to understand that `DataFrame` treats the index (representing rows) and the columns in the same way. Both of them are of type `Index` in `pandas`. The following two cells show what I mean."
   ]
  },
  {
   "cell_type": "code",
   "execution_count": 45,
   "metadata": {},
   "outputs": [
    {
     "data": {
      "text/plain": [
       "pandas.core.indexes.range.RangeIndex"
      ]
     },
     "execution_count": 45,
     "metadata": {},
     "output_type": "execute_result"
    }
   ],
   "source": [
    "type(df_top_songs.index)"
   ]
  },
  {
   "cell_type": "code",
   "execution_count": 46,
   "metadata": {},
   "outputs": [
    {
     "data": {
      "text/plain": [
       "pandas.core.indexes.base.Index"
      ]
     },
     "execution_count": 46,
     "metadata": {},
     "output_type": "execute_result"
    }
   ],
   "source": [
    "type(df_top_songs.columns)"
   ]
  },
  {
   "cell_type": "markdown",
   "metadata": {},
   "source": [
    "This also means that each row is of type `Series`. So, everything we learned about `Series` applies to both rows and columns."
   ]
  },
  {
   "cell_type": "markdown",
   "metadata": {},
   "source": [
    "**Exercise:** Extend the previous exercise (on creating 12 `Series` objects), to create a `DataFrame` that looks like a 12x12 multiplication table."
   ]
  },
  {
   "cell_type": "markdown",
   "metadata": {},
   "source": [
    "#### Column operations\n",
    "\n",
    "In this section, we will learn how to select, add and modify columns in a dataframe."
   ]
  },
  {
   "cell_type": "markdown",
   "metadata": {},
   "source": [
    "As you have already seen, using `[]` operator with the column name fetches you the column"
   ]
  },
  {
   "cell_type": "code",
   "execution_count": 47,
   "metadata": {},
   "outputs": [
    {
     "data": {
      "text/plain": [
       "0                 Breathe\n",
       "1            I Wanna Know\n",
       "2             Maria Maria\n",
       "3     Everything You Want\n",
       "4    He Wasn't Man Enough\n",
       "Name: song, dtype: object"
      ]
     },
     "execution_count": 47,
     "metadata": {},
     "output_type": "execute_result"
    }
   ],
   "source": [
    "df_top_songs['song'].head(5)"
   ]
  },
  {
   "cell_type": "markdown",
   "metadata": {},
   "source": [
    "You can add new columns like you add new elements in a dictionary, by assigning a new `Series` object, or any sequence."
   ]
  },
  {
   "cell_type": "code",
   "execution_count": 48,
   "metadata": {},
   "outputs": [
    {
     "data": {
      "text/html": [
       "<div>\n",
       "<style scoped>\n",
       "    .dataframe tbody tr th:only-of-type {\n",
       "        vertical-align: middle;\n",
       "    }\n",
       "\n",
       "    .dataframe tbody tr th {\n",
       "        vertical-align: top;\n",
       "    }\n",
       "\n",
       "    .dataframe thead th {\n",
       "        text-align: right;\n",
       "    }\n",
       "</style>\n",
       "<table border=\"1\" class=\"dataframe\">\n",
       "  <thead>\n",
       "    <tr style=\"text-align: right;\">\n",
       "      <th></th>\n",
       "      <th>year</th>\n",
       "      <th>position</th>\n",
       "      <th>artist</th>\n",
       "      <th>song</th>\n",
       "      <th>score</th>\n",
       "      <th>us</th>\n",
       "      <th>uk</th>\n",
       "      <th>de</th>\n",
       "      <th>fr</th>\n",
       "      <th>ca</th>\n",
       "      <th>au</th>\n",
       "      <th>simple_score</th>\n",
       "    </tr>\n",
       "  </thead>\n",
       "  <tbody>\n",
       "    <tr>\n",
       "      <th>0</th>\n",
       "      <td>2000</td>\n",
       "      <td>1</td>\n",
       "      <td>Faith Hill</td>\n",
       "      <td>Breathe</td>\n",
       "      <td>24030.051</td>\n",
       "      <td>2</td>\n",
       "      <td>33</td>\n",
       "      <td>-</td>\n",
       "      <td>-</td>\n",
       "      <td>-</td>\n",
       "      <td>23</td>\n",
       "      <td>0.86</td>\n",
       "    </tr>\n",
       "    <tr>\n",
       "      <th>1</th>\n",
       "      <td>2000</td>\n",
       "      <td>2</td>\n",
       "      <td>Joe Thomas</td>\n",
       "      <td>I Wanna Know</td>\n",
       "      <td>21516.777</td>\n",
       "      <td>4</td>\n",
       "      <td>-</td>\n",
       "      <td>-</td>\n",
       "      <td>61</td>\n",
       "      <td>-</td>\n",
       "      <td>34</td>\n",
       "      <td>0.77</td>\n",
       "    </tr>\n",
       "    <tr>\n",
       "      <th>2</th>\n",
       "      <td>2000</td>\n",
       "      <td>3</td>\n",
       "      <td>Santana &amp; The Product G</td>\n",
       "      <td>Maria Maria</td>\n",
       "      <td>20941.780</td>\n",
       "      <td>1</td>\n",
       "      <td>6</td>\n",
       "      <td>-</td>\n",
       "      <td>1</td>\n",
       "      <td>-</td>\n",
       "      <td>49</td>\n",
       "      <td>0.75</td>\n",
       "    </tr>\n",
       "    <tr>\n",
       "      <th>3</th>\n",
       "      <td>2000</td>\n",
       "      <td>4</td>\n",
       "      <td>Vertical Horizon</td>\n",
       "      <td>Everything You Want</td>\n",
       "      <td>20402.965</td>\n",
       "      <td>1</td>\n",
       "      <td>42</td>\n",
       "      <td>-</td>\n",
       "      <td>-</td>\n",
       "      <td>-</td>\n",
       "      <td>24</td>\n",
       "      <td>0.73</td>\n",
       "    </tr>\n",
       "    <tr>\n",
       "      <th>4</th>\n",
       "      <td>2000</td>\n",
       "      <td>5</td>\n",
       "      <td>Toni Braxton</td>\n",
       "      <td>He Wasn't Man Enough</td>\n",
       "      <td>20068.614</td>\n",
       "      <td>2</td>\n",
       "      <td>5</td>\n",
       "      <td>-</td>\n",
       "      <td>14</td>\n",
       "      <td>-</td>\n",
       "      <td>5</td>\n",
       "      <td>0.72</td>\n",
       "    </tr>\n",
       "  </tbody>\n",
       "</table>\n",
       "</div>"
      ],
      "text/plain": [
       "   year  position                   artist                  song      score  \\\n",
       "0  2000         1               Faith Hill               Breathe  24030.051   \n",
       "1  2000         2               Joe Thomas          I Wanna Know  21516.777   \n",
       "2  2000         3  Santana & The Product G           Maria Maria  20941.780   \n",
       "3  2000         4         Vertical Horizon   Everything You Want  20402.965   \n",
       "4  2000         5             Toni Braxton  He Wasn't Man Enough  20068.614   \n",
       "\n",
       "  us  uk de  fr ca  au  simple_score  \n",
       "0  2  33  -   -  -  23          0.86  \n",
       "1  4   -  -  61  -  34          0.77  \n",
       "2  1   6  -   1  -  49          0.75  \n",
       "3  1  42  -   -  -  24          0.73  \n",
       "4  2   5  -  14  -   5          0.72  "
      ]
     },
     "execution_count": 48,
     "metadata": {},
     "output_type": "execute_result"
    }
   ],
   "source": [
    "df_top_songs['simple_score'] = (df_top_songs['score'] / max(df_top_songs['score'])).round(2)\n",
    "df_top_songs.head(5)"
   ]
  },
  {
   "cell_type": "markdown",
   "metadata": {},
   "source": [
    "In this case, we used the inbuilt `max()` function to find the maximum, division operator to divide a `Series` with a scalar, and then a method called `round()` in the `Series` type, that rounds the number to two decimal places."
   ]
  },
  {
   "cell_type": "markdown",
   "metadata": {},
   "source": [
    "You can delete a column using the `del` operator:"
   ]
  },
  {
   "cell_type": "code",
   "execution_count": 49,
   "metadata": {},
   "outputs": [
    {
     "data": {
      "text/html": [
       "<div>\n",
       "<style scoped>\n",
       "    .dataframe tbody tr th:only-of-type {\n",
       "        vertical-align: middle;\n",
       "    }\n",
       "\n",
       "    .dataframe tbody tr th {\n",
       "        vertical-align: top;\n",
       "    }\n",
       "\n",
       "    .dataframe thead th {\n",
       "        text-align: right;\n",
       "    }\n",
       "</style>\n",
       "<table border=\"1\" class=\"dataframe\">\n",
       "  <thead>\n",
       "    <tr style=\"text-align: right;\">\n",
       "      <th></th>\n",
       "      <th>year</th>\n",
       "      <th>position</th>\n",
       "      <th>artist</th>\n",
       "      <th>song</th>\n",
       "      <th>us</th>\n",
       "      <th>uk</th>\n",
       "      <th>de</th>\n",
       "      <th>fr</th>\n",
       "      <th>ca</th>\n",
       "      <th>au</th>\n",
       "      <th>simple_score</th>\n",
       "    </tr>\n",
       "  </thead>\n",
       "  <tbody>\n",
       "    <tr>\n",
       "      <th>0</th>\n",
       "      <td>2000</td>\n",
       "      <td>1</td>\n",
       "      <td>Faith Hill</td>\n",
       "      <td>Breathe</td>\n",
       "      <td>2</td>\n",
       "      <td>33</td>\n",
       "      <td>-</td>\n",
       "      <td>-</td>\n",
       "      <td>-</td>\n",
       "      <td>23</td>\n",
       "      <td>0.86</td>\n",
       "    </tr>\n",
       "    <tr>\n",
       "      <th>1</th>\n",
       "      <td>2000</td>\n",
       "      <td>2</td>\n",
       "      <td>Joe Thomas</td>\n",
       "      <td>I Wanna Know</td>\n",
       "      <td>4</td>\n",
       "      <td>-</td>\n",
       "      <td>-</td>\n",
       "      <td>61</td>\n",
       "      <td>-</td>\n",
       "      <td>34</td>\n",
       "      <td>0.77</td>\n",
       "    </tr>\n",
       "    <tr>\n",
       "      <th>2</th>\n",
       "      <td>2000</td>\n",
       "      <td>3</td>\n",
       "      <td>Santana &amp; The Product G</td>\n",
       "      <td>Maria Maria</td>\n",
       "      <td>1</td>\n",
       "      <td>6</td>\n",
       "      <td>-</td>\n",
       "      <td>1</td>\n",
       "      <td>-</td>\n",
       "      <td>49</td>\n",
       "      <td>0.75</td>\n",
       "    </tr>\n",
       "    <tr>\n",
       "      <th>3</th>\n",
       "      <td>2000</td>\n",
       "      <td>4</td>\n",
       "      <td>Vertical Horizon</td>\n",
       "      <td>Everything You Want</td>\n",
       "      <td>1</td>\n",
       "      <td>42</td>\n",
       "      <td>-</td>\n",
       "      <td>-</td>\n",
       "      <td>-</td>\n",
       "      <td>24</td>\n",
       "      <td>0.73</td>\n",
       "    </tr>\n",
       "    <tr>\n",
       "      <th>4</th>\n",
       "      <td>2000</td>\n",
       "      <td>5</td>\n",
       "      <td>Toni Braxton</td>\n",
       "      <td>He Wasn't Man Enough</td>\n",
       "      <td>2</td>\n",
       "      <td>5</td>\n",
       "      <td>-</td>\n",
       "      <td>14</td>\n",
       "      <td>-</td>\n",
       "      <td>5</td>\n",
       "      <td>0.72</td>\n",
       "    </tr>\n",
       "  </tbody>\n",
       "</table>\n",
       "</div>"
      ],
      "text/plain": [
       "   year  position                   artist                  song us  uk de  \\\n",
       "0  2000         1               Faith Hill               Breathe  2  33  -   \n",
       "1  2000         2               Joe Thomas          I Wanna Know  4   -  -   \n",
       "2  2000         3  Santana & The Product G           Maria Maria  1   6  -   \n",
       "3  2000         4         Vertical Horizon   Everything You Want  1  42  -   \n",
       "4  2000         5             Toni Braxton  He Wasn't Man Enough  2   5  -   \n",
       "\n",
       "   fr ca  au  simple_score  \n",
       "0   -  -  23          0.86  \n",
       "1  61  -  34          0.77  \n",
       "2   1  -  49          0.75  \n",
       "3   -  -  24          0.73  \n",
       "4  14  -   5          0.72  "
      ]
     },
     "execution_count": 49,
     "metadata": {},
     "output_type": "execute_result"
    }
   ],
   "source": [
    "del df_top_songs['score']\n",
    "df_top_songs.head(5)"
   ]
  },
  {
   "cell_type": "markdown",
   "metadata": {},
   "source": [
    "#### Accessing data in a DataFrame\n",
    "\n",
    "Here is the summary of how you can access data in a dataframe.\n",
    "\n",
    "|Operation                      |Syntax                                     |Result   |\n",
    "|-------------------------------|-------------------------------------------|---------|\n",
    "|Select column                              |df['col_name']                 |Series   |\n",
    "|Select multiple columns                    |df[['col_name1, 'col_name2']]  |DataFrame|\n",
    "|Select row by label                        |df.loc[label]                  |Series   |\n",
    "|Select row by integer location             |df.iloc[loc]                   |Series   |\n",
    "|Select column by integer location          |df.iloc[:, 0]                  |Series   |\n",
    "|Select row, column by integer location     |df.iloc[0, 0]                  |dtype    |\n",
    "|Select multiple columns by integer location|df.iloc[:, [0, 1]]             |DataFrame|\n",
    "|Slice rows                                 |df.iloc[5:10]                  |DataFrame|\n",
    "|Select rows by boolean vector (filtering)  |df[bool_vec]                   |DataFrame|\n",
    "\n",
    "We have already checked out the first one. Let's checkout the others too."
   ]
  },
  {
   "cell_type": "markdown",
   "metadata": {},
   "source": [
    "For these examples, let's reassign the index of the `DataFrame`."
   ]
  },
  {
   "cell_type": "code",
   "execution_count": 79,
   "metadata": {},
   "outputs": [
    {
     "data": {
      "text/html": [
       "<div>\n",
       "<style scoped>\n",
       "    .dataframe tbody tr th:only-of-type {\n",
       "        vertical-align: middle;\n",
       "    }\n",
       "\n",
       "    .dataframe tbody tr th {\n",
       "        vertical-align: top;\n",
       "    }\n",
       "\n",
       "    .dataframe thead th {\n",
       "        text-align: right;\n",
       "    }\n",
       "</style>\n",
       "<table border=\"1\" class=\"dataframe\">\n",
       "  <thead>\n",
       "    <tr style=\"text-align: right;\">\n",
       "      <th></th>\n",
       "      <th>year</th>\n",
       "      <th>position</th>\n",
       "      <th>artist</th>\n",
       "      <th>song</th>\n",
       "      <th>us</th>\n",
       "      <th>uk</th>\n",
       "      <th>de</th>\n",
       "      <th>fr</th>\n",
       "      <th>ca</th>\n",
       "      <th>au</th>\n",
       "      <th>simple_score</th>\n",
       "    </tr>\n",
       "  </thead>\n",
       "  <tbody>\n",
       "    <tr>\n",
       "      <th>10000</th>\n",
       "      <td>2000</td>\n",
       "      <td>1</td>\n",
       "      <td>Faith Hill</td>\n",
       "      <td>Breathe</td>\n",
       "      <td>2</td>\n",
       "      <td>33</td>\n",
       "      <td>-</td>\n",
       "      <td>-</td>\n",
       "      <td>-</td>\n",
       "      <td>23</td>\n",
       "      <td>0.86</td>\n",
       "    </tr>\n",
       "    <tr>\n",
       "      <th>10001</th>\n",
       "      <td>2000</td>\n",
       "      <td>2</td>\n",
       "      <td>Joe Thomas</td>\n",
       "      <td>I Wanna Know</td>\n",
       "      <td>4</td>\n",
       "      <td>-</td>\n",
       "      <td>-</td>\n",
       "      <td>61</td>\n",
       "      <td>-</td>\n",
       "      <td>34</td>\n",
       "      <td>0.77</td>\n",
       "    </tr>\n",
       "    <tr>\n",
       "      <th>10002</th>\n",
       "      <td>2000</td>\n",
       "      <td>3</td>\n",
       "      <td>Santana &amp; The Product G</td>\n",
       "      <td>Maria Maria</td>\n",
       "      <td>1</td>\n",
       "      <td>6</td>\n",
       "      <td>-</td>\n",
       "      <td>1</td>\n",
       "      <td>-</td>\n",
       "      <td>49</td>\n",
       "      <td>0.75</td>\n",
       "    </tr>\n",
       "    <tr>\n",
       "      <th>10003</th>\n",
       "      <td>2000</td>\n",
       "      <td>4</td>\n",
       "      <td>Vertical Horizon</td>\n",
       "      <td>Everything You Want</td>\n",
       "      <td>1</td>\n",
       "      <td>42</td>\n",
       "      <td>-</td>\n",
       "      <td>-</td>\n",
       "      <td>-</td>\n",
       "      <td>24</td>\n",
       "      <td>0.73</td>\n",
       "    </tr>\n",
       "    <tr>\n",
       "      <th>10004</th>\n",
       "      <td>2000</td>\n",
       "      <td>5</td>\n",
       "      <td>Toni Braxton</td>\n",
       "      <td>He Wasn't Man Enough</td>\n",
       "      <td>2</td>\n",
       "      <td>5</td>\n",
       "      <td>-</td>\n",
       "      <td>14</td>\n",
       "      <td>-</td>\n",
       "      <td>5</td>\n",
       "      <td>0.72</td>\n",
       "    </tr>\n",
       "  </tbody>\n",
       "</table>\n",
       "</div>"
      ],
      "text/plain": [
       "       year  position                   artist                  song us  uk  \\\n",
       "10000  2000         1               Faith Hill               Breathe  2  33   \n",
       "10001  2000         2               Joe Thomas          I Wanna Know  4   -   \n",
       "10002  2000         3  Santana & The Product G           Maria Maria  1   6   \n",
       "10003  2000         4         Vertical Horizon   Everything You Want  1  42   \n",
       "10004  2000         5             Toni Braxton  He Wasn't Man Enough  2   5   \n",
       "\n",
       "      de  fr ca  au  simple_score  \n",
       "10000  -   -  -  23          0.86  \n",
       "10001  -  61  -  34          0.77  \n",
       "10002  -   1  -  49          0.75  \n",
       "10003  -   -  -  24          0.73  \n",
       "10004  -  14  -   5          0.72  "
      ]
     },
     "execution_count": 79,
     "metadata": {},
     "output_type": "execute_result"
    }
   ],
   "source": [
    "df_top_songs.index = range(10000,10000 + len(df_top_songs))\n",
    "df_top_songs.head(5)"
   ]
  },
  {
   "cell_type": "code",
   "execution_count": 80,
   "metadata": {},
   "outputs": [
    {
     "data": {
      "text/plain": [
       "'Vertical Horizon'"
      ]
     },
     "execution_count": 80,
     "metadata": {},
     "output_type": "execute_result"
    }
   ],
   "source": [
    "# Accessing table entry for column artist and row with index 3\n",
    "df_top_songs['artist'][10003]"
   ]
  },
  {
   "cell_type": "code",
   "execution_count": 81,
   "metadata": {},
   "outputs": [
    {
     "data": {
      "text/plain": [
       "'Vertical Horizon'"
      ]
     },
     "execution_count": 81,
     "metadata": {},
     "output_type": "execute_result"
    }
   ],
   "source": [
    "# Same as above\n",
    "df_top_songs.loc[10003]['artist']"
   ]
  },
  {
   "cell_type": "code",
   "execution_count": 82,
   "metadata": {},
   "outputs": [
    {
     "data": {
      "text/plain": [
       "'Vertical Horizon'"
      ]
     },
     "execution_count": 82,
     "metadata": {},
     "output_type": "execute_result"
    }
   ],
   "source": [
    "# Same as above, again\n",
    "df_top_songs.iloc[3]['artist']"
   ]
  },
  {
   "cell_type": "markdown",
   "metadata": {},
   "source": [
    "Note the difference between `loc()` and `iloc()` in the last two examples.\n",
    "- `loc()` uses the index label\n",
    "- `iloc()` uses the position of the row"
   ]
  },
  {
   "cell_type": "code",
   "execution_count": 83,
   "metadata": {},
   "outputs": [
    {
     "data": {
      "text/plain": [
       "'Vertical Horizon'"
      ]
     },
     "execution_count": 83,
     "metadata": {},
     "output_type": "execute_result"
    }
   ],
   "source": [
    "# Same yet again, as artist Column is at position = 2\n",
    "df_top_songs.iloc[3, 2]"
   ]
  },
  {
   "cell_type": "code",
   "execution_count": 84,
   "metadata": {},
   "outputs": [
    {
     "data": {
      "text/plain": [
       "year                       2000\n",
       "position                      4\n",
       "artist         Vertical Horizon\n",
       "song        Everything You Want\n",
       "Name: 10003, dtype: object"
      ]
     },
     "execution_count": 84,
     "metadata": {},
     "output_type": "execute_result"
    }
   ],
   "source": [
    "# We get a series representing the first 4 columns of row = 3\n",
    "df_top_songs.iloc[3, :4]"
   ]
  },
  {
   "cell_type": "code",
   "execution_count": 85,
   "metadata": {},
   "outputs": [
    {
     "data": {
      "text/plain": [
       "[1, 2, 3]"
      ]
     },
     "execution_count": 85,
     "metadata": {},
     "output_type": "execute_result"
    }
   ],
   "source": [
    "x = [1,2,3]\n",
    "x[:]"
   ]
  },
  {
   "cell_type": "code",
   "execution_count": 86,
   "metadata": {},
   "outputs": [
    {
     "data": {
      "text/html": [
       "<div>\n",
       "<style scoped>\n",
       "    .dataframe tbody tr th:only-of-type {\n",
       "        vertical-align: middle;\n",
       "    }\n",
       "\n",
       "    .dataframe tbody tr th {\n",
       "        vertical-align: top;\n",
       "    }\n",
       "\n",
       "    .dataframe thead th {\n",
       "        text-align: right;\n",
       "    }\n",
       "</style>\n",
       "<table border=\"1\" class=\"dataframe\">\n",
       "  <thead>\n",
       "    <tr style=\"text-align: right;\">\n",
       "      <th></th>\n",
       "      <th>year</th>\n",
       "      <th>artist</th>\n",
       "      <th>song</th>\n",
       "    </tr>\n",
       "  </thead>\n",
       "  <tbody>\n",
       "    <tr>\n",
       "      <th>10000</th>\n",
       "      <td>2000</td>\n",
       "      <td>Faith Hill</td>\n",
       "      <td>Breathe</td>\n",
       "    </tr>\n",
       "    <tr>\n",
       "      <th>10001</th>\n",
       "      <td>2000</td>\n",
       "      <td>Joe Thomas</td>\n",
       "      <td>I Wanna Know</td>\n",
       "    </tr>\n",
       "    <tr>\n",
       "      <th>10002</th>\n",
       "      <td>2000</td>\n",
       "      <td>Santana &amp; The Product G</td>\n",
       "      <td>Maria Maria</td>\n",
       "    </tr>\n",
       "    <tr>\n",
       "      <th>10003</th>\n",
       "      <td>2000</td>\n",
       "      <td>Vertical Horizon</td>\n",
       "      <td>Everything You Want</td>\n",
       "    </tr>\n",
       "    <tr>\n",
       "      <th>10004</th>\n",
       "      <td>2000</td>\n",
       "      <td>Toni Braxton</td>\n",
       "      <td>He Wasn't Man Enough</td>\n",
       "    </tr>\n",
       "    <tr>\n",
       "      <th>10005</th>\n",
       "      <td>2000</td>\n",
       "      <td>Rob Thomas &amp; Santana</td>\n",
       "      <td>Smooth</td>\n",
       "    </tr>\n",
       "    <tr>\n",
       "      <th>10006</th>\n",
       "      <td>2000</td>\n",
       "      <td>Aaliyah</td>\n",
       "      <td>Try Again</td>\n",
       "    </tr>\n",
       "    <tr>\n",
       "      <th>10007</th>\n",
       "      <td>2000</td>\n",
       "      <td>Matchbox Twenty</td>\n",
       "      <td>Bent</td>\n",
       "    </tr>\n",
       "    <tr>\n",
       "      <th>10008</th>\n",
       "      <td>2000</td>\n",
       "      <td>Lonestar</td>\n",
       "      <td>Amazed</td>\n",
       "    </tr>\n",
       "    <tr>\n",
       "      <th>10009</th>\n",
       "      <td>2000</td>\n",
       "      <td>Destiny's Child</td>\n",
       "      <td>Say My Name</td>\n",
       "    </tr>\n",
       "  </tbody>\n",
       "</table>\n",
       "</div>"
      ],
      "text/plain": [
       "       year                   artist                  song\n",
       "10000  2000               Faith Hill               Breathe\n",
       "10001  2000               Joe Thomas          I Wanna Know\n",
       "10002  2000  Santana & The Product G           Maria Maria\n",
       "10003  2000         Vertical Horizon   Everything You Want\n",
       "10004  2000             Toni Braxton  He Wasn't Man Enough\n",
       "10005  2000     Rob Thomas & Santana                Smooth\n",
       "10006  2000                  Aaliyah             Try Again\n",
       "10007  2000          Matchbox Twenty                  Bent\n",
       "10008  2000                 Lonestar                Amazed\n",
       "10009  2000          Destiny's Child           Say My Name"
      ]
     },
     "execution_count": 86,
     "metadata": {},
     "output_type": "execute_result"
    }
   ],
   "source": [
    "# We get all the rows, but only the specified columns\n",
    "df_top_songs.iloc[:, [0,2,3]].head(10)"
   ]
  },
  {
   "cell_type": "code",
   "execution_count": 87,
   "metadata": {},
   "outputs": [
    {
     "data": {
      "text/html": [
       "<div>\n",
       "<style scoped>\n",
       "    .dataframe tbody tr th:only-of-type {\n",
       "        vertical-align: middle;\n",
       "    }\n",
       "\n",
       "    .dataframe tbody tr th {\n",
       "        vertical-align: top;\n",
       "    }\n",
       "\n",
       "    .dataframe thead th {\n",
       "        text-align: right;\n",
       "    }\n",
       "</style>\n",
       "<table border=\"1\" class=\"dataframe\">\n",
       "  <thead>\n",
       "    <tr style=\"text-align: right;\">\n",
       "      <th></th>\n",
       "      <th>year</th>\n",
       "      <th>position</th>\n",
       "      <th>artist</th>\n",
       "      <th>song</th>\n",
       "      <th>us</th>\n",
       "      <th>uk</th>\n",
       "      <th>de</th>\n",
       "      <th>fr</th>\n",
       "      <th>ca</th>\n",
       "      <th>au</th>\n",
       "      <th>simple_score</th>\n",
       "    </tr>\n",
       "  </thead>\n",
       "  <tbody>\n",
       "    <tr>\n",
       "      <th>10010</th>\n",
       "      <td>2000</td>\n",
       "      <td>11</td>\n",
       "      <td>Three Doors Down</td>\n",
       "      <td>Kryptonite</td>\n",
       "      <td>3</td>\n",
       "      <td>-</td>\n",
       "      <td>-</td>\n",
       "      <td>-</td>\n",
       "      <td>-</td>\n",
       "      <td>47</td>\n",
       "      <td>0.65</td>\n",
       "    </tr>\n",
       "    <tr>\n",
       "      <th>10011</th>\n",
       "      <td>2000</td>\n",
       "      <td>12</td>\n",
       "      <td>Madonna</td>\n",
       "      <td>Music</td>\n",
       "      <td>1</td>\n",
       "      <td>1</td>\n",
       "      <td>-</td>\n",
       "      <td>8</td>\n",
       "      <td>1</td>\n",
       "      <td>1</td>\n",
       "      <td>0.63</td>\n",
       "    </tr>\n",
       "    <tr>\n",
       "      <th>10012</th>\n",
       "      <td>2000</td>\n",
       "      <td>13</td>\n",
       "      <td>Destiny's Child</td>\n",
       "      <td>Jumpin' Jumpin'</td>\n",
       "      <td>3</td>\n",
       "      <td>5</td>\n",
       "      <td>-</td>\n",
       "      <td>41</td>\n",
       "      <td>-</td>\n",
       "      <td>2</td>\n",
       "      <td>0.63</td>\n",
       "    </tr>\n",
       "    <tr>\n",
       "      <th>10013</th>\n",
       "      <td>2000</td>\n",
       "      <td>14</td>\n",
       "      <td>Sisqo</td>\n",
       "      <td>Thong Song</td>\n",
       "      <td>3</td>\n",
       "      <td>3</td>\n",
       "      <td>-</td>\n",
       "      <td>15</td>\n",
       "      <td>-</td>\n",
       "      <td>2</td>\n",
       "      <td>0.62</td>\n",
       "    </tr>\n",
       "    <tr>\n",
       "      <th>10014</th>\n",
       "      <td>2000</td>\n",
       "      <td>15</td>\n",
       "      <td>Creed</td>\n",
       "      <td>Higher</td>\n",
       "      <td>7</td>\n",
       "      <td>47</td>\n",
       "      <td>-</td>\n",
       "      <td>-</td>\n",
       "      <td>-</td>\n",
       "      <td>-</td>\n",
       "      <td>0.61</td>\n",
       "    </tr>\n",
       "  </tbody>\n",
       "</table>\n",
       "</div>"
      ],
      "text/plain": [
       "       year  position            artist             song us  uk de  fr ca  au  \\\n",
       "10010  2000        11  Three Doors Down       Kryptonite  3   -  -   -  -  47   \n",
       "10011  2000        12           Madonna            Music  1   1  -   8  1   1   \n",
       "10012  2000        13   Destiny's Child  Jumpin' Jumpin'  3   5  -  41  -   2   \n",
       "10013  2000        14             Sisqo       Thong Song  3   3  -  15  -   2   \n",
       "10014  2000        15             Creed           Higher  7  47  -   -  -   -   \n",
       "\n",
       "       simple_score  \n",
       "10010          0.65  \n",
       "10011          0.63  \n",
       "10012          0.63  \n",
       "10013          0.62  \n",
       "10014          0.61  "
      ]
     },
     "execution_count": 87,
     "metadata": {},
     "output_type": "execute_result"
    }
   ],
   "source": [
    "df_some_rows = df_top_songs.iloc[10:15]\n",
    "df_some_rows"
   ]
  },
  {
   "cell_type": "markdown",
   "metadata": {},
   "source": [
    "Note that both `df_top_songs[10:15]` and `df_top_songs.loc[10:15]` would produce the same result. When you are using the slicing operator, pandas uses them to specify _position_ of the rows instead of the index labels. This is consistent with how slicing works with `Series`.\n",
    "\n",
    "But, I prefer to use `iloc()` in this case, as it uses position of the rows to index rows in every case."
   ]
  },
  {
   "cell_type": "code",
   "execution_count": 88,
   "metadata": {},
   "outputs": [
    {
     "data": {
      "text/html": [
       "<div>\n",
       "<style scoped>\n",
       "    .dataframe tbody tr th:only-of-type {\n",
       "        vertical-align: middle;\n",
       "    }\n",
       "\n",
       "    .dataframe tbody tr th {\n",
       "        vertical-align: top;\n",
       "    }\n",
       "\n",
       "    .dataframe thead th {\n",
       "        text-align: right;\n",
       "    }\n",
       "</style>\n",
       "<table border=\"1\" class=\"dataframe\">\n",
       "  <thead>\n",
       "    <tr style=\"text-align: right;\">\n",
       "      <th></th>\n",
       "      <th>year</th>\n",
       "      <th>position</th>\n",
       "      <th>artist</th>\n",
       "      <th>song</th>\n",
       "    </tr>\n",
       "  </thead>\n",
       "  <tbody>\n",
       "    <tr>\n",
       "      <th>10010</th>\n",
       "      <td>2000</td>\n",
       "      <td>11</td>\n",
       "      <td>Three Doors Down</td>\n",
       "      <td>Kryptonite</td>\n",
       "    </tr>\n",
       "    <tr>\n",
       "      <th>10011</th>\n",
       "      <td>2000</td>\n",
       "      <td>12</td>\n",
       "      <td>Madonna</td>\n",
       "      <td>Music</td>\n",
       "    </tr>\n",
       "    <tr>\n",
       "      <th>10012</th>\n",
       "      <td>2000</td>\n",
       "      <td>13</td>\n",
       "      <td>Destiny's Child</td>\n",
       "      <td>Jumpin' Jumpin'</td>\n",
       "    </tr>\n",
       "    <tr>\n",
       "      <th>10013</th>\n",
       "      <td>2000</td>\n",
       "      <td>14</td>\n",
       "      <td>Sisqo</td>\n",
       "      <td>Thong Song</td>\n",
       "    </tr>\n",
       "    <tr>\n",
       "      <th>10014</th>\n",
       "      <td>2000</td>\n",
       "      <td>15</td>\n",
       "      <td>Creed</td>\n",
       "      <td>Higher</td>\n",
       "    </tr>\n",
       "  </tbody>\n",
       "</table>\n",
       "</div>"
      ],
      "text/plain": [
       "       year  position            artist             song\n",
       "10010  2000        11  Three Doors Down       Kryptonite\n",
       "10011  2000        12           Madonna            Music\n",
       "10012  2000        13   Destiny's Child  Jumpin' Jumpin'\n",
       "10013  2000        14             Sisqo       Thong Song\n",
       "10014  2000        15             Creed           Higher"
      ]
     },
     "execution_count": 88,
     "metadata": {},
     "output_type": "execute_result"
    }
   ],
   "source": [
    "df_some_rows_columns = df_top_songs.iloc[10:15, :4]\n",
    "df_some_rows_columns"
   ]
  },
  {
   "cell_type": "code",
   "execution_count": 89,
   "metadata": {},
   "outputs": [
    {
     "data": {
      "text/plain": [
       "10000     True\n",
       "10001     True\n",
       "10002     True\n",
       "10003     True\n",
       "10004     True\n",
       "10005     True\n",
       "10006     True\n",
       "10007     True\n",
       "10008     True\n",
       "10009    False\n",
       "dtype: bool"
      ]
     },
     "execution_count": 89,
     "metadata": {},
     "output_type": "execute_result"
    }
   ],
   "source": [
    "bool_series = (df_top_songs['simple_score'] > 0.5) & (df_top_songs['position'] < 10)\n",
    "bool_series.head(10)"
   ]
  },
  {
   "cell_type": "code",
   "execution_count": 90,
   "metadata": {},
   "outputs": [
    {
     "data": {
      "text/plain": [
       "76"
      ]
     },
     "execution_count": 90,
     "metadata": {},
     "output_type": "execute_result"
    }
   ],
   "source": [
    "df_filtered = df_top_songs[bool_series]\n",
    "len(df_filtered)"
   ]
  },
  {
   "cell_type": "markdown",
   "metadata": {},
   "source": [
    "- The filter works by giving a `Series` of booleans which is of the same length as the number of rows in the dataframe, in the expression `df[boolean_series]`.\n",
    "- This will select only those rows for which the corresponding boolean in the `boolean_series` is True.\n",
    "\n",
    "\n",
    "- The expressions used in filtering are achieved by overriding the operators. \n",
    "- You can use the expression of type `Series op Scalar` or `Series op Series`, where op can be `<`, `<=`, `==`, `!=`, `>`, `>=`.\n",
    "- You can combine multiple such expressions using `&` (replacement for `and`) and `|` (replacement for `or`). Because of operator precedence, you need to use paranthesis on individual expressions when you combine multiple expressions.\n",
    "- You can use the `~` operator as a replacement for not.\n",
    "- The result of these expressions is a `Series` of booleans."
   ]
  },
  {
   "cell_type": "markdown",
   "metadata": {},
   "source": [
    "## Exercises\n",
    "\n",
    "1. Create a `DataFrame` that has the columns Name, Age Group, Gender, Relationship to you for some people in your family \n",
    "and friend circle.\n",
    "\n",
    "\n",
    "2. Create a `DataFrame` with 10 columns and 100 rows, where row entry in the dataframe is a random integer between 1 and 1000. \n",
    "  - Find the mean value of each column. Check if all the 10 mean values are similar or rather different.\n",
    "  - Repeat the process a few times and see if your observations change.\n",
    "\n",
    "\n",
    "The following assignments will use the Google Play Store CSV file ([`googlestoredata.csv`](https://raw.githubusercontent.com/amangup/data-analysis-bootcamp/master/06-Pandas1/googlestoredata.csv))\n",
    "\n",
    "\n",
    "3. Let's explore a few of the methods in the `Series` type in `pandas`. [This page](https://pandas.pydata.org/pandas-docs/stable/reference/api/pandas.Series.html) has the list of methods for the `Series` class. For the following exercises, you will have to find the appropriate method and use it.\n",
    "  - Find all the unique values in the `Content Rating` column.\n",
    "  - Find the mean value of the `Rating` column.\n",
    "  - Find all the apps whose rating is equal to the minimum rating in the table.\n",
    "  - Find the apps which has the most reviews.\n",
    "  - Find the number of apps with `ART_AND_DESIGN` or `EDUCATION` category.\n",
    "  - Find the most common category.\n",
    "\n",
    "\n",
    "4. Find the weighted average of rating for all apps, where the weight in the calculation is the Install Count. Note that this value is higher than the mean value of the `Rating` column - what does this indicate?\n",
    "\n",
    "\n",
    "5. We are going to find a selection of good apps using our own criteria - apps that have a good rating, and also that it is so good that a lot of its users chose to review it.\n",
    "  - Define a new column called `review_ratio` which calculates the ratio of number of reviews to number of installs.\n",
    "  - Filter the dataframe with apps whose rating is > 4.5, and whose `review_ratio` is more than 5%.\n",
    "  - How many apps are we left with?\n",
    "  \n",
    "\n",
    "6. What's the perfect app? Find all apps whose rating is equal to the maximum rating. Among these apps, find the app with the maximum number of reviews.\n",
    "\n",
    "\n",
    "7. Find all the apps with the most recent `Last Updated` date. The following hints will be useful:\n",
    "  - The `apply()` method in the `Series` class may be handy. Note that this method takes a function as an argument.\n",
    "  - The date format to use with the `strptime()` method in the `datetime` module (if using) is `\"%B %d, %Y\"`.\n",
    " "
   ]
  }
 ],
 "metadata": {
  "kernelspec": {
   "display_name": "Python 3",
   "language": "python",
   "name": "python3"
  },
  "language_info": {
   "codemirror_mode": {
    "name": "ipython",
    "version": 3
   },
   "file_extension": ".py",
   "mimetype": "text/x-python",
   "name": "python",
   "nbconvert_exporter": "python",
   "pygments_lexer": "ipython3",
   "version": "3.8.5"
  }
 },
 "nbformat": 4,
 "nbformat_minor": 2
}
