{
 "cells": [
  {
   "cell_type": "markdown",
   "metadata": {},
   "source": [
    "# Plotting with matplotlib 2\n",
    "\n",
    "In the last lecture we got familiar with matplotlib and used it to plot some various kinds of charts. In the last example, we tried to use many options in matplotlib to make the chart exactly as we want.\n",
    "\n",
    "In this lecture, we will learn more ways on how to dictate the look of the chart. We will also learn how to use object oriented style of matplotlib, which can be used to write reusable functions to create charts."
   ]
  },
  {
   "cell_type": "code",
   "execution_count": 2,
   "metadata": {},
   "outputs": [],
   "source": [
    "import pandas as pd\n",
    "import matplotlib as mpl\n",
    "import matplotlib.pyplot as plt"
   ]
  },
  {
   "cell_type": "markdown",
   "metadata": {},
   "source": [
    "## Style sheets\n",
    "\n",
    "Matplotlib allows the user to define style sheets, which defines many visual properties of the chart (like fonts, colors, etc.). Not only that, it ships with many predefined styles, many of which are more elegant that the default look (to my eye, at least).\n",
    "\n",
    "Let's look at how to use them."
   ]
  },
  {
   "cell_type": "markdown",
   "metadata": {},
   "source": [
    "### Data\n",
    "\n",
    "This is the data containing the details of the reponse of the SF fire department to an emergency. Each row is for one specific response.\n",
    "\n",
    "We want to measure the distribution of response time of the SF fire department."
   ]
  },
  {
   "cell_type": "code",
   "execution_count": 3,
   "metadata": {},
   "outputs": [
    {
     "name": "stderr",
     "output_type": "stream",
     "text": [
      "/home/aman/miniconda3/lib/python3.6/site-packages/IPython/core/interactiveshell.py:2785: DtypeWarning: Columns (19,29) have mixed types. Specify dtype option on import or set low_memory=False.\n",
      "  interactivity=interactivity, compiler=compiler, result=result)\n"
     ]
    },
    {
     "data": {
      "text/html": [
       "<div>\n",
       "<style scoped>\n",
       "    .dataframe tbody tr th:only-of-type {\n",
       "        vertical-align: middle;\n",
       "    }\n",
       "\n",
       "    .dataframe tbody tr th {\n",
       "        vertical-align: top;\n",
       "    }\n",
       "\n",
       "    .dataframe thead th {\n",
       "        text-align: right;\n",
       "    }\n",
       "</style>\n",
       "<table border=\"1\" class=\"dataframe\">\n",
       "  <thead>\n",
       "    <tr style=\"text-align: right;\">\n",
       "      <th></th>\n",
       "      <th>Call Number</th>\n",
       "      <th>Unit ID</th>\n",
       "      <th>Incident Number</th>\n",
       "      <th>Call Date</th>\n",
       "      <th>Watch Date</th>\n",
       "      <th>Received DtTm</th>\n",
       "      <th>Entry DtTm</th>\n",
       "      <th>Dispatch DtTm</th>\n",
       "      <th>Response DtTm</th>\n",
       "      <th>On Scene DtTm</th>\n",
       "      <th>...</th>\n",
       "      <th>ALS Unit</th>\n",
       "      <th>Call Type Group</th>\n",
       "      <th>Number of Alarms</th>\n",
       "      <th>Unit Type</th>\n",
       "      <th>Unit sequence in call dispatch</th>\n",
       "      <th>Fire Prevention District</th>\n",
       "      <th>Supervisor District</th>\n",
       "      <th>Location</th>\n",
       "      <th>Neighborhooods - Analysis Boundaries</th>\n",
       "      <th>RowID</th>\n",
       "    </tr>\n",
       "  </thead>\n",
       "  <tbody>\n",
       "    <tr>\n",
       "      <th>0</th>\n",
       "      <td>180543290</td>\n",
       "      <td>T01</td>\n",
       "      <td>18023190</td>\n",
       "      <td>02/23/2018</td>\n",
       "      <td>02/23/2018</td>\n",
       "      <td>2018-02-23 18:55:05</td>\n",
       "      <td>02/23/2018 06:56:29 PM</td>\n",
       "      <td>02/23/2018 06:57:08 PM</td>\n",
       "      <td>02/23/2018 06:57:13 PM</td>\n",
       "      <td>2018-02-23 19:00:23</td>\n",
       "      <td>...</td>\n",
       "      <td>False</td>\n",
       "      <td>Alarm</td>\n",
       "      <td>1</td>\n",
       "      <td>TRUCK</td>\n",
       "      <td>1</td>\n",
       "      <td>3</td>\n",
       "      <td>6</td>\n",
       "      <td>(37.783430170318, -122.398387591798)</td>\n",
       "      <td>Financial District/South Beach</td>\n",
       "      <td>180543290-T01</td>\n",
       "    </tr>\n",
       "    <tr>\n",
       "      <th>1</th>\n",
       "      <td>163231853</td>\n",
       "      <td>RS1</td>\n",
       "      <td>16128936</td>\n",
       "      <td>11/18/2016</td>\n",
       "      <td>11/18/2016</td>\n",
       "      <td>2016-11-18 12:40:17</td>\n",
       "      <td>11/18/2016 12:41:14 PM</td>\n",
       "      <td>11/18/2016 12:41:36 PM</td>\n",
       "      <td>11/18/2016 12:43:25 PM</td>\n",
       "      <td>2016-11-18 12:45:31</td>\n",
       "      <td>...</td>\n",
       "      <td>False</td>\n",
       "      <td>Potentially Life-Threatening</td>\n",
       "      <td>1</td>\n",
       "      <td>RESCUE SQUAD</td>\n",
       "      <td>1</td>\n",
       "      <td>3</td>\n",
       "      <td>6</td>\n",
       "      <td>(37.775420706711, -122.403404791479)</td>\n",
       "      <td>South of Market</td>\n",
       "      <td>163231853-RS1</td>\n",
       "    </tr>\n",
       "    <tr>\n",
       "      <th>2</th>\n",
       "      <td>173303060</td>\n",
       "      <td>T10</td>\n",
       "      <td>17138693</td>\n",
       "      <td>11/26/2017</td>\n",
       "      <td>11/26/2017</td>\n",
       "      <td>2017-11-26 21:20:49</td>\n",
       "      <td>11/26/2017 09:22:20 PM</td>\n",
       "      <td>11/26/2017 09:22:35 PM</td>\n",
       "      <td>11/26/2017 09:23:35 PM</td>\n",
       "      <td>NaT</td>\n",
       "      <td>...</td>\n",
       "      <td>False</td>\n",
       "      <td>Alarm</td>\n",
       "      <td>1</td>\n",
       "      <td>TRUCK</td>\n",
       "      <td>3</td>\n",
       "      <td>5</td>\n",
       "      <td>2</td>\n",
       "      <td>(37.784909159111, -122.452936292976)</td>\n",
       "      <td>Presidio Heights</td>\n",
       "      <td>173303060-T10</td>\n",
       "    </tr>\n",
       "    <tr>\n",
       "      <th>3</th>\n",
       "      <td>191053189</td>\n",
       "      <td>E05</td>\n",
       "      <td>19044747</td>\n",
       "      <td>04/15/2019</td>\n",
       "      <td>04/15/2019</td>\n",
       "      <td>2019-04-15 17:51:17</td>\n",
       "      <td>04/15/2019 05:51:17 PM</td>\n",
       "      <td>04/15/2019 05:52:21 PM</td>\n",
       "      <td>04/15/2019 05:52:21 PM</td>\n",
       "      <td>2019-04-15 17:53:31</td>\n",
       "      <td>...</td>\n",
       "      <td>False</td>\n",
       "      <td>Potentially Life-Threatening</td>\n",
       "      <td>1</td>\n",
       "      <td>ENGINE</td>\n",
       "      <td>2</td>\n",
       "      <td>2</td>\n",
       "      <td>8</td>\n",
       "      <td>(37.76956852749686, -122.42240555639769)</td>\n",
       "      <td>Mission</td>\n",
       "      <td>191053189-E05</td>\n",
       "    </tr>\n",
       "    <tr>\n",
       "      <th>4</th>\n",
       "      <td>183283685</td>\n",
       "      <td>77</td>\n",
       "      <td>18137922</td>\n",
       "      <td>11/24/2018</td>\n",
       "      <td>11/24/2018</td>\n",
       "      <td>2018-11-24 22:24:29</td>\n",
       "      <td>11/24/2018 10:25:15 PM</td>\n",
       "      <td>11/24/2018 10:26:30 PM</td>\n",
       "      <td>11/24/2018 10:27:00 PM</td>\n",
       "      <td>2018-11-24 22:27:37</td>\n",
       "      <td>...</td>\n",
       "      <td>True</td>\n",
       "      <td>Potentially Life-Threatening</td>\n",
       "      <td>1</td>\n",
       "      <td>MEDIC</td>\n",
       "      <td>1</td>\n",
       "      <td>4</td>\n",
       "      <td>3</td>\n",
       "      <td>(37.789883351367, -122.418012422783)</td>\n",
       "      <td>Nob Hill</td>\n",
       "      <td>183283685-77</td>\n",
       "    </tr>\n",
       "  </tbody>\n",
       "</table>\n",
       "<p>5 rows × 33 columns</p>\n",
       "</div>"
      ],
      "text/plain": [
       "   Call Number Unit ID  Incident Number   Call Date  Watch Date  \\\n",
       "0    180543290     T01         18023190  02/23/2018  02/23/2018   \n",
       "1    163231853     RS1         16128936  11/18/2016  11/18/2016   \n",
       "2    173303060     T10         17138693  11/26/2017  11/26/2017   \n",
       "3    191053189     E05         19044747  04/15/2019  04/15/2019   \n",
       "4    183283685      77         18137922  11/24/2018  11/24/2018   \n",
       "\n",
       "        Received DtTm              Entry DtTm           Dispatch DtTm  \\\n",
       "0 2018-02-23 18:55:05  02/23/2018 06:56:29 PM  02/23/2018 06:57:08 PM   \n",
       "1 2016-11-18 12:40:17  11/18/2016 12:41:14 PM  11/18/2016 12:41:36 PM   \n",
       "2 2017-11-26 21:20:49  11/26/2017 09:22:20 PM  11/26/2017 09:22:35 PM   \n",
       "3 2019-04-15 17:51:17  04/15/2019 05:51:17 PM  04/15/2019 05:52:21 PM   \n",
       "4 2018-11-24 22:24:29  11/24/2018 10:25:15 PM  11/24/2018 10:26:30 PM   \n",
       "\n",
       "            Response DtTm       On Scene DtTm      ...       ALS Unit  \\\n",
       "0  02/23/2018 06:57:13 PM 2018-02-23 19:00:23      ...          False   \n",
       "1  11/18/2016 12:43:25 PM 2016-11-18 12:45:31      ...          False   \n",
       "2  11/26/2017 09:23:35 PM                 NaT      ...          False   \n",
       "3  04/15/2019 05:52:21 PM 2019-04-15 17:53:31      ...          False   \n",
       "4  11/24/2018 10:27:00 PM 2018-11-24 22:27:37      ...           True   \n",
       "\n",
       "                Call Type Group Number of Alarms     Unit Type  \\\n",
       "0                         Alarm                1         TRUCK   \n",
       "1  Potentially Life-Threatening                1  RESCUE SQUAD   \n",
       "2                         Alarm                1         TRUCK   \n",
       "3  Potentially Life-Threatening                1        ENGINE   \n",
       "4  Potentially Life-Threatening                1         MEDIC   \n",
       "\n",
       "  Unit sequence in call dispatch Fire Prevention District  \\\n",
       "0                              1                        3   \n",
       "1                              1                        3   \n",
       "2                              3                        5   \n",
       "3                              2                        2   \n",
       "4                              1                        4   \n",
       "\n",
       "   Supervisor District                                  Location  \\\n",
       "0                    6      (37.783430170318, -122.398387591798)   \n",
       "1                    6      (37.775420706711, -122.403404791479)   \n",
       "2                    2      (37.784909159111, -122.452936292976)   \n",
       "3                    8  (37.76956852749686, -122.42240555639769)   \n",
       "4                    3      (37.789883351367, -122.418012422783)   \n",
       "\n",
       "   Neighborhooods - Analysis Boundaries          RowID  \n",
       "0        Financial District/South Beach  180543290-T01  \n",
       "1                       South of Market  163231853-RS1  \n",
       "2                      Presidio Heights  173303060-T10  \n",
       "3                               Mission  191053189-E05  \n",
       "4                              Nob Hill   183283685-77  \n",
       "\n",
       "[5 rows x 33 columns]"
      ]
     },
     "execution_count": 3,
     "metadata": {},
     "output_type": "execute_result"
    }
   ],
   "source": [
    "df = pd.read_csv('fd_calls_short.csv', parse_dates=[5,9])\n",
    "df.head(5)"
   ]
  },
  {
   "cell_type": "code",
   "execution_count": 5,
   "metadata": {},
   "outputs": [],
   "source": [
    "df['response_time_min'] = (df['On Scene DtTm'] - df['Received DtTm']).astype(int)/(1000000000 * 60)"
   ]
  },
  {
   "cell_type": "code",
   "execution_count": 6,
   "metadata": {},
   "outputs": [
    {
     "data": {
      "text/html": [
       "<div>\n",
       "<style scoped>\n",
       "    .dataframe tbody tr th:only-of-type {\n",
       "        vertical-align: middle;\n",
       "    }\n",
       "\n",
       "    .dataframe tbody tr th {\n",
       "        vertical-align: top;\n",
       "    }\n",
       "\n",
       "    .dataframe thead th {\n",
       "        text-align: right;\n",
       "    }\n",
       "</style>\n",
       "<table border=\"1\" class=\"dataframe\">\n",
       "  <thead>\n",
       "    <tr style=\"text-align: right;\">\n",
       "      <th></th>\n",
       "      <th>Incident Number</th>\n",
       "      <th>response_time_min</th>\n",
       "    </tr>\n",
       "  </thead>\n",
       "  <tbody>\n",
       "    <tr>\n",
       "      <th>0</th>\n",
       "      <td>18023190</td>\n",
       "      <td>5.300000</td>\n",
       "    </tr>\n",
       "    <tr>\n",
       "      <th>1</th>\n",
       "      <td>16128936</td>\n",
       "      <td>5.233333</td>\n",
       "    </tr>\n",
       "    <tr>\n",
       "      <th>3</th>\n",
       "      <td>19044747</td>\n",
       "      <td>2.233333</td>\n",
       "    </tr>\n",
       "    <tr>\n",
       "      <th>4</th>\n",
       "      <td>18137922</td>\n",
       "      <td>3.133333</td>\n",
       "    </tr>\n",
       "    <tr>\n",
       "      <th>5</th>\n",
       "      <td>17047835</td>\n",
       "      <td>5.600000</td>\n",
       "    </tr>\n",
       "    <tr>\n",
       "      <th>6</th>\n",
       "      <td>17110468</td>\n",
       "      <td>16.600000</td>\n",
       "    </tr>\n",
       "    <tr>\n",
       "      <th>8</th>\n",
       "      <td>18090456</td>\n",
       "      <td>7.183333</td>\n",
       "    </tr>\n",
       "    <tr>\n",
       "      <th>9</th>\n",
       "      <td>16025845</td>\n",
       "      <td>11.266667</td>\n",
       "    </tr>\n",
       "    <tr>\n",
       "      <th>10</th>\n",
       "      <td>18126014</td>\n",
       "      <td>3.816667</td>\n",
       "    </tr>\n",
       "    <tr>\n",
       "      <th>11</th>\n",
       "      <td>19050609</td>\n",
       "      <td>18.500000</td>\n",
       "    </tr>\n",
       "  </tbody>\n",
       "</table>\n",
       "</div>"
      ],
      "text/plain": [
       "    Incident Number  response_time_min\n",
       "0          18023190           5.300000\n",
       "1          16128936           5.233333\n",
       "3          19044747           2.233333\n",
       "4          18137922           3.133333\n",
       "5          17047835           5.600000\n",
       "6          17110468          16.600000\n",
       "8          18090456           7.183333\n",
       "9          16025845          11.266667\n",
       "10         18126014           3.816667\n",
       "11         19050609          18.500000"
      ]
     },
     "execution_count": 6,
     "metadata": {},
     "output_type": "execute_result"
    }
   ],
   "source": [
    "df_response_tm = df[['Incident Number', 'response_time_min']]\n",
    "df_response_tm = df_response_tm[(df_response_tm['response_time_min'] > 0) & (df_response_tm['response_time_min'] < 60)]\n",
    "df_response_tm.head(10)"
   ]
  },
  {
   "cell_type": "markdown",
   "metadata": {},
   "source": [
    "### Pre-defined style sheets\n",
    "\n",
    "As mentioned before, matplotlib ships with many different style sheets. The list of all styles that are available can be seen using the following variable in the `plt.style` package."
   ]
  },
  {
   "cell_type": "code",
   "execution_count": 7,
   "metadata": {},
   "outputs": [
    {
     "name": "stdout",
     "output_type": "stream",
     "text": [
      "['_classic_test', 'seaborn-dark', 'Solarize_Light2', 'grayscale', 'seaborn-poster', 'fast', 'seaborn-bright', 'classic', 'seaborn-darkgrid', 'seaborn-notebook', 'seaborn-whitegrid', 'seaborn-pastel', 'seaborn-ticks', 'bmh', 'fivethirtyeight', 'seaborn-paper', 'seaborn-dark-palette', 'seaborn-colorblind', 'tableau-colorblind10', 'seaborn-deep', 'seaborn-muted', 'seaborn-white', 'ggplot', 'dark_background', 'seaborn-talk', 'seaborn']\n"
     ]
    }
   ],
   "source": [
    "print(plt.style.available)"
   ]
  },
  {
   "cell_type": "markdown",
   "metadata": {},
   "source": [
    "We can use the function `plt.style.use()` to change the style. This changes the default setting, so all plots created once that has been called will use that style."
   ]
  },
  {
   "cell_type": "code",
   "execution_count": 9,
   "metadata": {},
   "outputs": [
    {
     "data": {
      "image/png": "[encoded data removed]",
      "text/plain": [
       "<Figure size 640x480 with 1 Axes>"
      ]
     },
     "metadata": {},
     "output_type": "display_data"
    }
   ],
   "source": [
    "# The string 'default' is used for the default matplotlib style\n",
    "plt.style.use('default')\n",
    "plt.hist('response_time_min', bins=60, density=1, data=df_response_tm)\n",
    "plt.show()"
   ]
  },
  {
   "cell_type": "code",
   "execution_count": 11,
   "metadata": {},
   "outputs": [
    {
     "data": {
      "image/png": "[encoded data removed]",
      "text/plain": [
       "<Figure size 640x480 with 1 Axes>"
      ]
     },
     "metadata": {},
     "output_type": "display_data"
    }
   ],
   "source": [
    "# The following syntax allows you to apply the style only for one plot at a time\n",
    "# while keeping the global defaults same.\n",
    "\n",
    "\n",
    "# This style imitates the style of R language plots\n",
    "with plt.style.context('ggplot'):\n",
    "    plt.hist('response_time_min', bins=60, density=1, data=df_response_tm)\n",
    "plt.show()"
   ]
  },
  {
   "cell_type": "code",
   "execution_count": 13,
   "metadata": {},
   "outputs": [
    {
     "data": {
      "image/png": "[encoded data removed]",
      "text/plain": [
       "<Figure size 640x480 with 1 Axes>"
      ]
     },
     "metadata": {},
     "output_type": "display_data"
    }
   ],
   "source": [
    "# This style imitates the charts used by popular site fivethirtyeight.com\n",
    "\n",
    "with plt.style.context('fivethirtyeight'):\n",
    "    plt.hist('response_time_min', bins=60, density=1, data=df_response_tm)\n",
    "plt.show()"
   ]
  },
  {
   "cell_type": "markdown",
   "metadata": {},
   "source": [
    "### Exercise\n",
    "\n",
    "Try as many styles as you can and choose one which you like the best for this chart."
   ]
  },
  {
   "cell_type": "markdown",
   "metadata": {},
   "source": [
    "## Custom styling\n",
    "\n",
    "You can specify style parameters which can override the default. You can also group those parameters and give them a name, which you can use like pre-built style sheets in the last section. We will look at how to do both."
   ]
  },
  {
   "cell_type": "markdown",
   "metadata": {},
   "source": [
    "### rcParams\n",
    "\n",
    "`matplotlib` maintains a global dictionary called `rcParams` which defines the default style settings. To change a few settings, (like background color or font), we can change that dictionary, and all plots will use those updated style."
   ]
  },
  {
   "cell_type": "code",
   "execution_count": 30,
   "metadata": {},
   "outputs": [
    {
     "data": {
      "image/png": "[encoded data removed]",
      "text/plain": [
       "<Figure size 640x480 with 1 Axes>"
      ]
     },
     "metadata": {},
     "output_type": "display_data"
    }
   ],
   "source": [
    "bgcolor = (0.95, 0.98, 0.98)\n",
    "mpl.rcParams['axes.facecolor'] = bgcolor\n",
    "mpl.rcParams['axes.spines.left'] = False\n",
    "mpl.rcParams['axes.spines.right'] = False\n",
    "mpl.rcParams['axes.spines.top'] = False\n",
    "mpl.rcParams['axes.grid'] = True\n",
    "mpl.rcParams['axes.grid.axis'] = 'both'             \n",
    "mpl.rcParams['axes.grid.which'] = 'major'\n",
    "mpl.rcParams['axes.axisbelow'] = True\n",
    "mpl.rcParams['grid.linestyle'] = '--'\n",
    "mpl.rcParams['patch.edgecolor'] = bgcolor\n",
    "mpl.rcParams['patch.force_edgecolor'] = True\n",
    "\n",
    "plt.hist('response_time_min', bins=60, density=1, data=df_response_tm)\n",
    "plt.show()"
   ]
  },
  {
   "cell_type": "markdown",
   "metadata": {},
   "source": [
    "As you can see above, after changing a number of key value pairs in `rcParams` dictionary, we have our own look of the plot. \n",
    "\n",
    "Let's create another plot, and see how that chart looks like with this style."
   ]
  },
  {
   "cell_type": "code",
   "execution_count": 31,
   "metadata": {},
   "outputs": [],
   "source": [
    "df['call_month'] = df['Received DtTm'].apply(lambda x: x.month)\n",
    "df_calls_month = df.groupby(['call_month'])['Incident Number'].count()"
   ]
  },
  {
   "cell_type": "code",
   "execution_count": 32,
   "metadata": {},
   "outputs": [
    {
     "data": {
      "image/png": "[encoded data removed]",
      "text/plain": [
       "<Figure size 640x480 with 1 Axes>"
      ]
     },
     "metadata": {},
     "output_type": "display_data"
    }
   ],
   "source": [
    "plt.bar(df_calls_month.index, df_calls_month.values)\n",
    "plt.xticks(range(1,13))\n",
    "plt.show()"
   ]
  },
  {
   "cell_type": "markdown",
   "metadata": {},
   "source": [
    "In the previous section, we learnt about `plt.style.use()` function. That function actually works this way:\n",
    "- the style name is attached to a number of key value pairs to define the style.\n",
    "- when we call `plt.style.use()`, the `rcParams` dictionary is updated to use the values from that style.\n",
    "\n",
    "Thus, `rcParams` is the main mechanism in matplotlib to define the default style of the charts.\n",
    "\n",
    "Try going back to the previous section (like where we used the `ggplot` style), and run that cell again. You will note that the chart looks different - the bars are separated. This is because `ggplot` style doesn't overwrite the `patch.force_edgecolor` setting, and since we set it true in this section, every chart will have an edge line around bars in the charts."
   ]
  },
  {
   "cell_type": "markdown",
   "metadata": {},
   "source": [
    "### Custom style sheets\n",
    "\n",
    "To create custom style sheets, one can **create a file** which sets the style settings in a similar way to how we set the `rcParams` above. Here is an example of the contents of such a file:\n",
    "\n",
    "```\n",
    "axes.spines.left : False\n",
    "axes.spines.right : False\n",
    "axes.spines.top : False\n",
    "axes.grid : True\n",
    "axes.grid.axis : both             \n",
    "axes.grid.which : major\n",
    "axes.axisbelow : True\n",
    "grid.linestyle : --\n",
    "patch.facecolor : red\n",
    "```\n",
    "\n",
    "I saved this file as `main.mplstyle`. \n",
    "- We can use the same functions as before (either `plt.style.use()` or `plt.style.context()`) to refer to our style sheet file, and that style will get loaded.\n",
    "- You can specify a list of styles, instead of just one (this works with pre-built styles as well). Note that if a property overlaps between style sheets, the latter style will override the earlier one."
   ]
  },
  {
   "cell_type": "code",
   "execution_count": 33,
   "metadata": {},
   "outputs": [
    {
     "data": {
      "image/png": "[encoded data removed]",
      "text/plain": [
       "<Figure size 640x480 with 1 Axes>"
      ]
     },
     "metadata": {},
     "output_type": "display_data"
    }
   ],
   "source": [
    "with plt.style.context(['bgcolor.mplstyle', 'main.mplstyle']):\n",
    "    plt.bar(df_calls_month.index, df_calls_month.values, color='mediumvioletred')\n",
    "    plt.xticks(range(1,13))\n",
    "plt.show()"
   ]
  },
  {
   "cell_type": "markdown",
   "metadata": {},
   "source": [
    "### Useful reference links\n",
    "\n",
    "- [This link is useful](https://matplotlib.org/tutorials/introductory/customizing.html#a-sample-matplotlibrc-file) for future reference - it provides a very large list of settings that you can use to define your chart style.\n",
    "\n",
    "- [This link](https://stackoverflow.com/questions/22408237/named-colors-in-matplotlib) lists all the names of colors that you can use in matplotlib, if you don't want to use RGB based colors."
   ]
  },
  {
   "cell_type": "markdown",
   "metadata": {},
   "source": [
    "### Exercise\n",
    "\n",
    "**Step 1:**\n",
    "Create a chart which is a stacked area plot showing the number of incidents each month for each `Unit Type`. It's similar to the column chart above, but:\n",
    "- For each month, we can find out how many incidents occured for each Unit Type.\n",
    "- It will be a stacked area plot, and not a stacked column chart.\n",
    "\n",
    "**Step 2:**\n",
    "Define your own style sheet which uses the following image as inspiration. Take care of the following:\n",
    "- Color of lines and areas. Look at `axes.prop_cycle` property at the reference link above.\n",
    "- Transparency of area colors\n",
    "- Background color inside the chart boundary\n",
    "- Background color outside the chart boundary\n",
    "- Dot style\n",
    "- Grid style\n",
    "- Font type, name and color\n",
    "- Placement of axis labels and title\n",
    "- Legend style\n",
    "- Spines\n",
    "- X and Y axis ticks\n",
    "\n",
    "![Sample image](https://raw.githubusercontent.com/amangup/data-analysis-bootcamp/master/11-Matplotlib2/chart.jpg)\n"
   ]
  },
  {
   "cell_type": "code",
   "execution_count": null,
   "metadata": {},
   "outputs": [],
   "source": []
  }
 ],
 "metadata": {
  "kernelspec": {
   "display_name": "Python 3",
   "language": "python",
   "name": "python3"
  },
  "language_info": {
   "codemirror_mode": {
    "name": "ipython",
    "version": 3
   },
   "file_extension": ".py",
   "mimetype": "text/x-python",
   "name": "python",
   "nbconvert_exporter": "python",
   "pygments_lexer": "ipython3",
   "version": "3.6.7"
  }
 },
 "nbformat": 4,
 "nbformat_minor": 2
}
