{
 "cells": [
  {
   "cell_type": "markdown",
   "metadata": {},
   "source": [
    "# Test"
   ]
  },
  {
   "cell_type": "markdown",
   "metadata": {},
   "source": [
    "## Problem 1\n",
    "\n",
    "There are two CSV files `east_sales.csv` and `west_sales.csv` which contain sales data for two different regions of different products across different dates. Find the combined sales numbers of the products on overlapping dates."
   ]
  },
  {
   "cell_type": "markdown",
   "metadata": {},
   "source": [
    "## Problem 2\n",
    "The csv file `random_ids.csv` contains one column which has many duplicates. Output a csv file `random_ids_unique.csv` which doesn't contain any duplicates.\n",
    "\n",
    "To save a CSV files you can use the method `to_csv()`, like as follows:\n",
    "\n",
    "```python\n",
    "df.to_csv('filename.csv', index=False)\n",
    "```\n"
   ]
  },
  {
   "cell_type": "markdown",
   "metadata": {},
   "source": [
    "## Problem 3\n",
    "\n",
    "Parse the CSV file `movies.csv` into a `DataFrame` and rearrange the rows of the `DataFrame` randomly. The 1st row might become 100th row, 2nd row might become 500th, 3rd might become 1st row, and so on.\n",
    "\n",
    "The method `sort_values()` might be useful. It's used as follows:\n",
    "\n",
    "```python\n",
    "sorted_df = df.sort_values(by='column')\n",
    "```"
   ]
  },
  {
   "cell_type": "markdown",
   "metadata": {},
   "source": [
    "## Problem 4\n",
    "\n",
    "Parse the file `fibonacci.csv` into a `DataFrame`. This file contains the first 25 **Fibonacci** numbers in its only column. Add the next 25 fibonacci numbers into the DataFrame. A fibonacci number is a sequence where the current number is the sum of previous two numbers in the sequence."
   ]
  },
  {
   "cell_type": "markdown",
   "metadata": {},
   "source": [
    "## Problem 5\n",
    "\n",
    "The file `Red_Light_Camera_Violations.csv` contains the red light violations for the City of Chicago since July 2014. Read it as a `DataFrame` and filter it to contain the violations occuring only on Sundays.\n",
    "\n",
    "Beware that this may be a large dataset."
   ]
  },
  {
   "cell_type": "markdown",
   "metadata": {},
   "source": [
    "## Problem 6\n",
    "\n",
    "In the file `shifted.csv`, the data contains values for all days in a year. There is an error, though - the value corresponding to the first date is on the second row, one for the second date is on the third row, and so on. Read this file as a `DataFrame` and fix the issue."
   ]
  },
  {
   "cell_type": "markdown",
   "metadata": {},
   "source": [
    "## Problem 7\n",
    "\n",
    "In the file `space_points.csv`, there is a list of points in space with their x, y, and z coordinates. Sort them by their distance from the origin of space.\n",
    "\n",
    "The method `sort_values()` might be useful. It's used as follows:\n",
    "\n",
    "```python\n",
    "sorted_df = df.sort_values(by='column')\n",
    "```"
   ]
  },
  {
   "cell_type": "markdown",
   "metadata": {},
   "source": [
    "## Problem 8\n",
    "\n",
    "The file `veg_sales.csv` contains the revenue and volume sold for 3 different vegatables, in every state in the US. Read the file as a `DataFrame` and create 3 new columns which contain the average price of the vegetables in each of the states."
   ]
  }
 ],
 "metadata": {
  "kernelspec": {
   "display_name": "Python 3",
   "language": "python",
   "name": "python3"
  },
  "language_info": {
   "codemirror_mode": {
    "name": "ipython",
    "version": 3
   },
   "file_extension": ".py",
   "mimetype": "text/x-python",
   "name": "python",
   "nbconvert_exporter": "python",
   "pygments_lexer": "ipython3",
   "version": "3.6.7"
  }
 },
 "nbformat": 4,
 "nbformat_minor": 2
}
